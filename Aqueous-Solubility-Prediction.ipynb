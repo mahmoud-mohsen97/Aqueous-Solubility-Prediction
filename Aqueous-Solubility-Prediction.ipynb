{
 "cells": [
  {
   "cell_type": "markdown",
   "id": "e04885db",
   "metadata": {
    "papermill": {
     "duration": 0.018195,
     "end_time": "2023-04-30T14:30:55.965833",
     "exception": false,
     "start_time": "2023-04-30T14:30:55.947638",
     "status": "completed"
    },
    "tags": []
   },
   "source": [
    "## **Solubility Prediction using Molecular Descriptors with RDKit**"
   ]
  },
  {
   "cell_type": "markdown",
   "id": "2bafbbca",
   "metadata": {
    "papermill": {
     "duration": 0.016416,
     "end_time": "2023-04-30T14:30:56.000550",
     "exception": false,
     "start_time": "2023-04-30T14:30:55.984134",
     "status": "completed"
    },
    "tags": []
   },
   "source": [
    "### **Install rdkit**"
   ]
  },
  {
   "cell_type": "code",
   "execution_count": 1,
   "id": "6306264f",
   "metadata": {
    "execution": {
     "iopub.execute_input": "2023-04-30T14:30:56.035971Z",
     "iopub.status.busy": "2023-04-30T14:30:56.035185Z",
     "iopub.status.idle": "2023-04-30T14:31:07.845872Z",
     "shell.execute_reply": "2023-04-30T14:31:07.844501Z"
    },
    "papermill": {
     "duration": 11.83119,
     "end_time": "2023-04-30T14:31:07.848190",
     "exception": false,
     "start_time": "2023-04-30T14:30:56.017000",
     "status": "completed"
    },
    "tags": []
   },
   "outputs": [
    {
     "name": "stdout",
     "output_type": "stream",
     "text": [
      "Collecting rdkit\r\n",
      "  Downloading rdkit-2022.9.5-cp37-cp37m-manylinux_2_17_x86_64.manylinux2014_x86_64.whl (29.2 MB)\r\n",
      "\u001b[2K     \u001b[90m━━━━━━━━━━━━━━━━━━━━━━━━━━━━━━━━━━━━━━━━\u001b[0m \u001b[32m29.2/29.2 MB\u001b[0m \u001b[31m43.0 MB/s\u001b[0m eta \u001b[36m0:00:00\u001b[0m\r\n",
      "\u001b[?25hRequirement already satisfied: Pillow in /opt/conda/lib/python3.7/site-packages (from rdkit) (9.4.0)\r\n",
      "Requirement already satisfied: numpy in /opt/conda/lib/python3.7/site-packages (from rdkit) (1.21.6)\r\n",
      "Installing collected packages: rdkit\r\n",
      "Successfully installed rdkit-2022.9.5\r\n",
      "\u001b[33mWARNING: Running pip as the 'root' user can result in broken permissions and conflicting behaviour with the system package manager. It is recommended to use a virtual environment instead: https://pip.pypa.io/warnings/venv\u001b[0m\u001b[33m\r\n",
      "\u001b[0mNote: you may need to restart the kernel to use updated packages.\n"
     ]
    }
   ],
   "source": [
    "pip install rdkit"
   ]
  },
  {
   "cell_type": "code",
   "execution_count": 2,
   "id": "3386d8ad",
   "metadata": {
    "execution": {
     "iopub.execute_input": "2023-04-30T14:31:07.884870Z",
     "iopub.status.busy": "2023-04-30T14:31:07.884562Z",
     "iopub.status.idle": "2023-04-30T14:31:18.638587Z",
     "shell.execute_reply": "2023-04-30T14:31:18.637382Z"
    },
    "papermill": {
     "duration": 10.775006,
     "end_time": "2023-04-30T14:31:18.640898",
     "exception": false,
     "start_time": "2023-04-30T14:31:07.865892",
     "status": "completed"
    },
    "tags": []
   },
   "outputs": [
    {
     "name": "stdout",
     "output_type": "stream",
     "text": [
      "Collecting deepchem\r\n",
      "  Downloading deepchem-2.7.1-py3-none-any.whl (693 kB)\r\n",
      "\u001b[2K     \u001b[90m━━━━━━━━━━━━━━━━━━━━━━━━━━━━━━━━━━━━━━\u001b[0m \u001b[32m693.2/693.2 kB\u001b[0m \u001b[31m32.8 MB/s\u001b[0m eta \u001b[36m0:00:00\u001b[0m\r\n",
      "\u001b[?25hRequirement already satisfied: joblib in /opt/conda/lib/python3.7/site-packages (from deepchem) (1.2.0)\r\n",
      "Requirement already satisfied: scipy<1.9 in /opt/conda/lib/python3.7/site-packages (from deepchem) (1.7.3)\r\n",
      "Requirement already satisfied: rdkit in /opt/conda/lib/python3.7/site-packages (from deepchem) (2022.9.5)\r\n",
      "Requirement already satisfied: scikit-learn in /opt/conda/lib/python3.7/site-packages (from deepchem) (1.0.2)\r\n",
      "Requirement already satisfied: pandas in /opt/conda/lib/python3.7/site-packages (from deepchem) (1.3.5)\r\n",
      "Requirement already satisfied: numpy>=1.21 in /opt/conda/lib/python3.7/site-packages (from deepchem) (1.21.6)\r\n",
      "Requirement already satisfied: python-dateutil>=2.7.3 in /opt/conda/lib/python3.7/site-packages (from pandas->deepchem) (2.8.2)\r\n",
      "Requirement already satisfied: pytz>=2017.3 in /opt/conda/lib/python3.7/site-packages (from pandas->deepchem) (2023.3)\r\n",
      "Requirement already satisfied: Pillow in /opt/conda/lib/python3.7/site-packages (from rdkit->deepchem) (9.4.0)\r\n",
      "Requirement already satisfied: threadpoolctl>=2.0.0 in /opt/conda/lib/python3.7/site-packages (from scikit-learn->deepchem) (3.1.0)\r\n",
      "Requirement already satisfied: six>=1.5 in /opt/conda/lib/python3.7/site-packages (from python-dateutil>=2.7.3->pandas->deepchem) (1.16.0)\r\n",
      "Installing collected packages: deepchem\r\n",
      "Successfully installed deepchem-2.7.1\r\n",
      "\u001b[33mWARNING: Running pip as the 'root' user can result in broken permissions and conflicting behaviour with the system package manager. It is recommended to use a virtual environment instead: https://pip.pypa.io/warnings/venv\u001b[0m\u001b[33m\r\n",
      "\u001b[0mNote: you may need to restart the kernel to use updated packages.\n"
     ]
    }
   ],
   "source": [
    "pip install deepchem"
   ]
  },
  {
   "cell_type": "code",
   "execution_count": 3,
   "id": "5518cb47",
   "metadata": {
    "execution": {
     "iopub.execute_input": "2023-04-30T14:31:18.678209Z",
     "iopub.status.busy": "2023-04-30T14:31:18.677855Z",
     "iopub.status.idle": "2023-04-30T14:31:32.979003Z",
     "shell.execute_reply": "2023-04-30T14:31:32.977945Z"
    },
    "papermill": {
     "duration": 14.322716,
     "end_time": "2023-04-30T14:31:32.981682",
     "exception": false,
     "start_time": "2023-04-30T14:31:18.658966",
     "status": "completed"
    },
    "tags": []
   },
   "outputs": [
    {
     "name": "stderr",
     "output_type": "stream",
     "text": [
      "\u001b[34m\u001b[1mwandb\u001b[0m: \u001b[33mWARNING\u001b[0m W&B installed but not logged in.  Run `wandb login` or set the WANDB_API_KEY env variable.\n",
      "\u001b[34m\u001b[1mwandb\u001b[0m: \u001b[33mWARNING\u001b[0m W&B installed but not logged in.  Run `wandb login` or set the WANDB_API_KEY env variable.\n"
     ]
    },
    {
     "data": {
      "text/html": [
       "<style type='text/css'>\n",
       ".datatable table.frame { margin-bottom: 0; }\n",
       ".datatable table.frame thead { border-bottom: none; }\n",
       ".datatable table.frame tr.coltypes td {  color: #FFFFFF;  line-height: 6px;  padding: 0 0.5em;}\n",
       ".datatable .bool    { background: #DDDD99; }\n",
       ".datatable .object  { background: #565656; }\n",
       ".datatable .int     { background: #5D9E5D; }\n",
       ".datatable .float   { background: #4040CC; }\n",
       ".datatable .str     { background: #CC4040; }\n",
       ".datatable .time    { background: #40CC40; }\n",
       ".datatable .row_index {  background: var(--jp-border-color3);  border-right: 1px solid var(--jp-border-color0);  color: var(--jp-ui-font-color3);  font-size: 9px;}\n",
       ".datatable .frame tbody td { text-align: left; }\n",
       ".datatable .frame tr.coltypes .row_index {  background: var(--jp-border-color0);}\n",
       ".datatable th:nth-child(2) { padding-left: 12px; }\n",
       ".datatable .hellipsis {  color: var(--jp-cell-editor-border-color);}\n",
       ".datatable .vellipsis {  background: var(--jp-layout-color0);  color: var(--jp-cell-editor-border-color);}\n",
       ".datatable .na {  color: var(--jp-cell-editor-border-color);  font-size: 80%;}\n",
       ".datatable .sp {  opacity: 0.25;}\n",
       ".datatable .footer { font-size: 9px; }\n",
       ".datatable .frame_dimensions {  background: var(--jp-border-color3);  border-top: 1px solid var(--jp-border-color0);  color: var(--jp-ui-font-color3);  display: inline-block;  opacity: 0.6;  padding: 1px 10px 1px 5px;}\n",
       "</style>\n"
      ],
      "text/plain": [
       "<IPython.core.display.HTML object>"
      ]
     },
     "metadata": {},
     "output_type": "display_data"
    }
   ],
   "source": [
    "import os, math\n",
    "import pandas as pd\n",
    "import numpy as np\n",
    "\n",
    "# for the compound descriptors\n",
    "import rdkit\n",
    "from rdkit import Chem\n",
    "import deepchem as dc\n",
    "from rdkit.Chem import Descriptors\n",
    "from rdkit.Chem import inchi\n",
    "from rdkit.Chem import rdMolDescriptors\n",
    "\n",
    "# Plotting\n",
    "import seaborn as sns\n",
    "import matplotlib.pyplot as plt\n",
    "\n",
    "# Modeling\n",
    "from sklearn.model_selection import train_test_split\n",
    "from sklearn.preprocessing import StandardScaler, MinMaxScaler, RobustScaler\n",
    "from sklearn.decomposition import PCA\n",
    "\n",
    "from sklearn.ensemble import RandomForestRegressor\n",
    "from sklearn.linear_model import LinearRegression\n",
    "import lightgbm as lgb\n",
    "from lightgbm import Dataset\n",
    "from hyperopt import fmin, tpe, hp, Trials\n",
    "import itertools\n",
    "\n",
    "from sklearn.metrics import classification_report, confusion_matrix, mean_squared_error, mean_absolute_error\n",
    "from sklearn.metrics import accuracy_score\n",
    "from sklearn.metrics import roc_auc_score, roc_curve, precision_score, recall_score\n",
    "\n",
    "\n",
    "import warnings\n",
    "warnings.filterwarnings('ignore')\n"
   ]
  },
  {
   "cell_type": "markdown",
   "id": "2324dc77",
   "metadata": {
    "papermill": {
     "duration": 0.017884,
     "end_time": "2023-04-30T14:31:33.017761",
     "exception": false,
     "start_time": "2023-04-30T14:31:32.999877",
     "status": "completed"
    },
    "tags": []
   },
   "source": [
    "## **Rread the Dataset**"
   ]
  },
  {
   "cell_type": "code",
   "execution_count": 4,
   "id": "8507f7fb",
   "metadata": {
    "execution": {
     "iopub.execute_input": "2023-04-30T14:31:33.056075Z",
     "iopub.status.busy": "2023-04-30T14:31:33.055033Z",
     "iopub.status.idle": "2023-04-30T14:31:33.205574Z",
     "shell.execute_reply": "2023-04-30T14:31:33.204502Z"
    },
    "papermill": {
     "duration": 0.172044,
     "end_time": "2023-04-30T14:31:33.208058",
     "exception": false,
     "start_time": "2023-04-30T14:31:33.036014",
     "status": "completed"
    },
    "tags": []
   },
   "outputs": [],
   "source": [
    "df = pd.read_csv('/kaggle/input/aqueous-solubility-predictioin/train.csv')\n",
    "df_test = pd.read_csv('/kaggle/input/aqueous-solubility-predictioin/test.csv')"
   ]
  },
  {
   "cell_type": "code",
   "execution_count": 5,
   "id": "f7ab607b",
   "metadata": {
    "execution": {
     "iopub.execute_input": "2023-04-30T14:31:33.246223Z",
     "iopub.status.busy": "2023-04-30T14:31:33.245879Z",
     "iopub.status.idle": "2023-04-30T14:31:33.286633Z",
     "shell.execute_reply": "2023-04-30T14:31:33.285510Z"
    },
    "papermill": {
     "duration": 0.063136,
     "end_time": "2023-04-30T14:31:33.289664",
     "exception": false,
     "start_time": "2023-04-30T14:31:33.226528",
     "status": "completed"
    },
    "tags": []
   },
   "outputs": [
    {
     "data": {
      "text/html": [
       "<div>\n",
       "<style scoped>\n",
       "    .dataframe tbody tr th:only-of-type {\n",
       "        vertical-align: middle;\n",
       "    }\n",
       "\n",
       "    .dataframe tbody tr th {\n",
       "        vertical-align: top;\n",
       "    }\n",
       "\n",
       "    .dataframe thead th {\n",
       "        text-align: right;\n",
       "    }\n",
       "</style>\n",
       "<table border=\"1\" class=\"dataframe\">\n",
       "  <thead>\n",
       "    <tr style=\"text-align: right;\">\n",
       "      <th></th>\n",
       "      <th>ID</th>\n",
       "      <th>Name</th>\n",
       "      <th>InChI</th>\n",
       "      <th>InChIKey</th>\n",
       "      <th>SMILES</th>\n",
       "      <th>Solubility</th>\n",
       "      <th>SD</th>\n",
       "      <th>Ocurrences</th>\n",
       "      <th>Group</th>\n",
       "      <th>MolWt</th>\n",
       "      <th>...</th>\n",
       "      <th>NumValenceElectrons</th>\n",
       "      <th>NumAromaticRings</th>\n",
       "      <th>NumSaturatedRings</th>\n",
       "      <th>NumAliphaticRings</th>\n",
       "      <th>RingCount</th>\n",
       "      <th>TPSA</th>\n",
       "      <th>LabuteASA</th>\n",
       "      <th>BalabanJ</th>\n",
       "      <th>BertzCT</th>\n",
       "      <th>comp_id</th>\n",
       "    </tr>\n",
       "  </thead>\n",
       "  <tbody>\n",
       "    <tr>\n",
       "      <th>0</th>\n",
       "      <td>A-2510</td>\n",
       "      <td>1-(hexyloxy)hexane</td>\n",
       "      <td>InChI=1S/C12H26O/c1-3-5-7-9-11-13-12-10-8-6-4-...</td>\n",
       "      <td>BPIUIOXAFBGMNB-UHFFFAOYSA-N</td>\n",
       "      <td>CCCCCCOCCCCCC</td>\n",
       "      <td>-4.270304</td>\n",
       "      <td>0.000000</td>\n",
       "      <td>1</td>\n",
       "      <td>G1</td>\n",
       "      <td>186.339</td>\n",
       "      <td>...</td>\n",
       "      <td>80.0</td>\n",
       "      <td>0.0</td>\n",
       "      <td>0.0</td>\n",
       "      <td>0.0</td>\n",
       "      <td>0.0</td>\n",
       "      <td>9.23</td>\n",
       "      <td>83.867160</td>\n",
       "      <td>2.758150</td>\n",
       "      <td>71.193662</td>\n",
       "      <td>1460</td>\n",
       "    </tr>\n",
       "    <tr>\n",
       "      <th>1</th>\n",
       "      <td>F-54</td>\n",
       "      <td>(6-nitro-1,3-benzodioxol-5-yl)methanol</td>\n",
       "      <td>InChI=1S/C8H7NO5/c10-3-5-1-7-8(14-4-13-7)2-6(5...</td>\n",
       "      <td>XSKQKDTZQNFCCB-UHFFFAOYSA-N</td>\n",
       "      <td>C1OC2=C(O1)C=C(C(=C2)CO)[N+](=O)[O-]</td>\n",
       "      <td>-3.060000</td>\n",
       "      <td>0.000000</td>\n",
       "      <td>1</td>\n",
       "      <td>G1</td>\n",
       "      <td>197.146</td>\n",
       "      <td>...</td>\n",
       "      <td>74.0</td>\n",
       "      <td>1.0</td>\n",
       "      <td>0.0</td>\n",
       "      <td>1.0</td>\n",
       "      <td>2.0</td>\n",
       "      <td>81.83</td>\n",
       "      <td>78.829756</td>\n",
       "      <td>2.540230</td>\n",
       "      <td>389.563183</td>\n",
       "      <td>8962</td>\n",
       "    </tr>\n",
       "    <tr>\n",
       "      <th>2</th>\n",
       "      <td>B-1415</td>\n",
       "      <td>ethyl propyl ether</td>\n",
       "      <td>InChI=1S/C5H12O/c1-3-5-6-4-2/h3-5H2,1-2H3</td>\n",
       "      <td>NVJUHMXYKCUMQA-UHFFFAOYSA-N</td>\n",
       "      <td>CCCOCC</td>\n",
       "      <td>-0.680600</td>\n",
       "      <td>0.082783</td>\n",
       "      <td>3</td>\n",
       "      <td>G5</td>\n",
       "      <td>88.150</td>\n",
       "      <td>...</td>\n",
       "      <td>38.0</td>\n",
       "      <td>0.0</td>\n",
       "      <td>0.0</td>\n",
       "      <td>0.0</td>\n",
       "      <td>0.0</td>\n",
       "      <td>9.23</td>\n",
       "      <td>39.312565</td>\n",
       "      <td>2.339092</td>\n",
       "      <td>15.900135</td>\n",
       "      <td>4663</td>\n",
       "    </tr>\n",
       "    <tr>\n",
       "      <th>3</th>\n",
       "      <td>B-307</td>\n",
       "      <td>diphenylacetonitrile</td>\n",
       "      <td>InChI=1S/C14H11N/c15-11-14(12-7-3-1-4-8-12)13-...</td>\n",
       "      <td>NEBPTMCRLHKPOB-UHFFFAOYSA-N</td>\n",
       "      <td>N#CC(c1ccccc1)c2ccccc2</td>\n",
       "      <td>-2.943700</td>\n",
       "      <td>0.000000</td>\n",
       "      <td>1</td>\n",
       "      <td>G1</td>\n",
       "      <td>193.249</td>\n",
       "      <td>...</td>\n",
       "      <td>72.0</td>\n",
       "      <td>2.0</td>\n",
       "      <td>0.0</td>\n",
       "      <td>0.0</td>\n",
       "      <td>2.0</td>\n",
       "      <td>23.79</td>\n",
       "      <td>89.610961</td>\n",
       "      <td>2.392308</td>\n",
       "      <td>414.202303</td>\n",
       "      <td>3846</td>\n",
       "    </tr>\n",
       "    <tr>\n",
       "      <th>4</th>\n",
       "      <td>B-1164</td>\n",
       "      <td>9-methyl-9-azabicyclo[3.3.1]nonan-3-one</td>\n",
       "      <td>InChI=1S/C9H15NO/c1-10-7-3-2-4-8(10)6-9(11)5-7...</td>\n",
       "      <td>RHWSKVCZXBAWLZ-UHFFFAOYSA-N</td>\n",
       "      <td>CN1C2CCCC1CC(=O)C2</td>\n",
       "      <td>0.416700</td>\n",
       "      <td>0.000000</td>\n",
       "      <td>1</td>\n",
       "      <td>G1</td>\n",
       "      <td>153.225</td>\n",
       "      <td>...</td>\n",
       "      <td>62.0</td>\n",
       "      <td>0.0</td>\n",
       "      <td>2.0</td>\n",
       "      <td>2.0</td>\n",
       "      <td>2.0</td>\n",
       "      <td>20.31</td>\n",
       "      <td>67.568481</td>\n",
       "      <td>2.122767</td>\n",
       "      <td>162.401547</td>\n",
       "      <td>4455</td>\n",
       "    </tr>\n",
       "    <tr>\n",
       "      <th>...</th>\n",
       "      <td>...</td>\n",
       "      <td>...</td>\n",
       "      <td>...</td>\n",
       "      <td>...</td>\n",
       "      <td>...</td>\n",
       "      <td>...</td>\n",
       "      <td>...</td>\n",
       "      <td>...</td>\n",
       "      <td>...</td>\n",
       "      <td>...</td>\n",
       "      <td>...</td>\n",
       "      <td>...</td>\n",
       "      <td>...</td>\n",
       "      <td>...</td>\n",
       "      <td>...</td>\n",
       "      <td>...</td>\n",
       "      <td>...</td>\n",
       "      <td>...</td>\n",
       "      <td>...</td>\n",
       "      <td>...</td>\n",
       "      <td>...</td>\n",
       "    </tr>\n",
       "    <tr>\n",
       "      <th>6982</th>\n",
       "      <td>C-1308</td>\n",
       "      <td>n-(benzoyloxyacetyl)proline</td>\n",
       "      <td>InChI=1S/C14H15NO5/c16-12(15-8-4-7-11(15)13(17...</td>\n",
       "      <td>GZXGHZDSFNQRKK-UHFFFAOYSA-N</td>\n",
       "      <td>OC(=O)C1CCCN1C(=O)COC(=O)C2=CC=CC=C2</td>\n",
       "      <td>-1.590000</td>\n",
       "      <td>0.000000</td>\n",
       "      <td>1</td>\n",
       "      <td>G1</td>\n",
       "      <td>277.276</td>\n",
       "      <td>...</td>\n",
       "      <td>106.0</td>\n",
       "      <td>1.0</td>\n",
       "      <td>1.0</td>\n",
       "      <td>1.0</td>\n",
       "      <td>2.0</td>\n",
       "      <td>83.91</td>\n",
       "      <td>115.497288</td>\n",
       "      <td>1.892259</td>\n",
       "      <td>513.555365</td>\n",
       "      <td>7690</td>\n",
       "    </tr>\n",
       "    <tr>\n",
       "      <th>6983</th>\n",
       "      <td>A-1843</td>\n",
       "      <td>1-(2-ethylbutyl)cyclohexane-1-carboxylic acid</td>\n",
       "      <td>InChI=1S/C13H24O2/c1-3-11(4-2)10-13(12(14)15)8...</td>\n",
       "      <td>XRKJBJLXKLOLKS-UHFFFAOYSA-N</td>\n",
       "      <td>CCC(CC)CC1(CCCCC1)C(O)=O</td>\n",
       "      <td>-4.281695</td>\n",
       "      <td>0.000000</td>\n",
       "      <td>1</td>\n",
       "      <td>G1</td>\n",
       "      <td>212.333</td>\n",
       "      <td>...</td>\n",
       "      <td>88.0</td>\n",
       "      <td>0.0</td>\n",
       "      <td>1.0</td>\n",
       "      <td>1.0</td>\n",
       "      <td>1.0</td>\n",
       "      <td>37.30</td>\n",
       "      <td>93.068481</td>\n",
       "      <td>2.672386</td>\n",
       "      <td>200.581493</td>\n",
       "      <td>1072</td>\n",
       "    </tr>\n",
       "    <tr>\n",
       "      <th>6984</th>\n",
       "      <td>B-2106</td>\n",
       "      <td>kasugamycin</td>\n",
       "      <td>InChI=1S/C14H21N3O3/c1-14(2,3)16-13(19)20-11-8...</td>\n",
       "      <td>OWNAXTAAAQTBSP-UHFFFAOYSA-N</td>\n",
       "      <td>CN(C)C(=O)Nc1cccc(OC(=O)NC(C)(C)C)c1</td>\n",
       "      <td>-2.934200</td>\n",
       "      <td>0.000000</td>\n",
       "      <td>1</td>\n",
       "      <td>G1</td>\n",
       "      <td>279.340</td>\n",
       "      <td>...</td>\n",
       "      <td>110.0</td>\n",
       "      <td>1.0</td>\n",
       "      <td>0.0</td>\n",
       "      <td>0.0</td>\n",
       "      <td>1.0</td>\n",
       "      <td>70.67</td>\n",
       "      <td>118.647088</td>\n",
       "      <td>2.687869</td>\n",
       "      <td>492.682650</td>\n",
       "      <td>5266</td>\n",
       "    </tr>\n",
       "    <tr>\n",
       "      <th>6985</th>\n",
       "      <td>B-2737</td>\n",
       "      <td>zolone</td>\n",
       "      <td>InChI=1S/C12H16NO4PS2/c1-3-15-18(19,16-4-2)20-...</td>\n",
       "      <td>YAAFKGCBOCRHIF-UHFFFAOYSA-N</td>\n",
       "      <td>CCO[P](=S)(OCC)SCN1C(=O)Oc2ccccc12</td>\n",
       "      <td>-5.190500</td>\n",
       "      <td>0.000000</td>\n",
       "      <td>1</td>\n",
       "      <td>G1</td>\n",
       "      <td>333.371</td>\n",
       "      <td>...</td>\n",
       "      <td>110.0</td>\n",
       "      <td>2.0</td>\n",
       "      <td>0.0</td>\n",
       "      <td>0.0</td>\n",
       "      <td>2.0</td>\n",
       "      <td>53.60</td>\n",
       "      <td>125.715292</td>\n",
       "      <td>2.218033</td>\n",
       "      <td>671.392314</td>\n",
       "      <td>5820</td>\n",
       "    </tr>\n",
       "    <tr>\n",
       "      <th>6986</th>\n",
       "      <td>A-3446</td>\n",
       "      <td>(2R,3R)-2,3-dihydroxybutanedioic acid</td>\n",
       "      <td>InChI=1S/C4H6O6/c5-1(3(7)8)2(6)4(9)10/h1-2,5-6...</td>\n",
       "      <td>FEWJPZIEWOKRBE-UHFFFAOYSA-N</td>\n",
       "      <td>OC(C(O)C(O)=O)C(O)=O</td>\n",
       "      <td>0.571848</td>\n",
       "      <td>0.682833</td>\n",
       "      <td>10</td>\n",
       "      <td>G4</td>\n",
       "      <td>150.086</td>\n",
       "      <td>...</td>\n",
       "      <td>58.0</td>\n",
       "      <td>0.0</td>\n",
       "      <td>0.0</td>\n",
       "      <td>0.0</td>\n",
       "      <td>0.0</td>\n",
       "      <td>115.06</td>\n",
       "      <td>55.334057</td>\n",
       "      <td>4.069512</td>\n",
       "      <td>133.826806</td>\n",
       "      <td>2089</td>\n",
       "    </tr>\n",
       "  </tbody>\n",
       "</table>\n",
       "<p>6987 rows × 27 columns</p>\n",
       "</div>"
      ],
      "text/plain": [
       "          ID                                           Name  \\\n",
       "0     A-2510                             1-(hexyloxy)hexane   \n",
       "1       F-54         (6-nitro-1,3-benzodioxol-5-yl)methanol   \n",
       "2     B-1415                             ethyl propyl ether   \n",
       "3      B-307                           diphenylacetonitrile   \n",
       "4     B-1164        9-methyl-9-azabicyclo[3.3.1]nonan-3-one   \n",
       "...      ...                                            ...   \n",
       "6982  C-1308                    n-(benzoyloxyacetyl)proline   \n",
       "6983  A-1843  1-(2-ethylbutyl)cyclohexane-1-carboxylic acid   \n",
       "6984  B-2106                                    kasugamycin   \n",
       "6985  B-2737                                         zolone   \n",
       "6986  A-3446          (2R,3R)-2,3-dihydroxybutanedioic acid   \n",
       "\n",
       "                                                  InChI  \\\n",
       "0     InChI=1S/C12H26O/c1-3-5-7-9-11-13-12-10-8-6-4-...   \n",
       "1     InChI=1S/C8H7NO5/c10-3-5-1-7-8(14-4-13-7)2-6(5...   \n",
       "2             InChI=1S/C5H12O/c1-3-5-6-4-2/h3-5H2,1-2H3   \n",
       "3     InChI=1S/C14H11N/c15-11-14(12-7-3-1-4-8-12)13-...   \n",
       "4     InChI=1S/C9H15NO/c1-10-7-3-2-4-8(10)6-9(11)5-7...   \n",
       "...                                                 ...   \n",
       "6982  InChI=1S/C14H15NO5/c16-12(15-8-4-7-11(15)13(17...   \n",
       "6983  InChI=1S/C13H24O2/c1-3-11(4-2)10-13(12(14)15)8...   \n",
       "6984  InChI=1S/C14H21N3O3/c1-14(2,3)16-13(19)20-11-8...   \n",
       "6985  InChI=1S/C12H16NO4PS2/c1-3-15-18(19,16-4-2)20-...   \n",
       "6986  InChI=1S/C4H6O6/c5-1(3(7)8)2(6)4(9)10/h1-2,5-6...   \n",
       "\n",
       "                         InChIKey                                SMILES  \\\n",
       "0     BPIUIOXAFBGMNB-UHFFFAOYSA-N                         CCCCCCOCCCCCC   \n",
       "1     XSKQKDTZQNFCCB-UHFFFAOYSA-N  C1OC2=C(O1)C=C(C(=C2)CO)[N+](=O)[O-]   \n",
       "2     NVJUHMXYKCUMQA-UHFFFAOYSA-N                                CCCOCC   \n",
       "3     NEBPTMCRLHKPOB-UHFFFAOYSA-N                N#CC(c1ccccc1)c2ccccc2   \n",
       "4     RHWSKVCZXBAWLZ-UHFFFAOYSA-N                    CN1C2CCCC1CC(=O)C2   \n",
       "...                           ...                                   ...   \n",
       "6982  GZXGHZDSFNQRKK-UHFFFAOYSA-N  OC(=O)C1CCCN1C(=O)COC(=O)C2=CC=CC=C2   \n",
       "6983  XRKJBJLXKLOLKS-UHFFFAOYSA-N              CCC(CC)CC1(CCCCC1)C(O)=O   \n",
       "6984  OWNAXTAAAQTBSP-UHFFFAOYSA-N  CN(C)C(=O)Nc1cccc(OC(=O)NC(C)(C)C)c1   \n",
       "6985  YAAFKGCBOCRHIF-UHFFFAOYSA-N    CCO[P](=S)(OCC)SCN1C(=O)Oc2ccccc12   \n",
       "6986  FEWJPZIEWOKRBE-UHFFFAOYSA-N                  OC(C(O)C(O)=O)C(O)=O   \n",
       "\n",
       "      Solubility        SD  Ocurrences Group    MolWt  ...  \\\n",
       "0      -4.270304  0.000000           1    G1  186.339  ...   \n",
       "1      -3.060000  0.000000           1    G1  197.146  ...   \n",
       "2      -0.680600  0.082783           3    G5   88.150  ...   \n",
       "3      -2.943700  0.000000           1    G1  193.249  ...   \n",
       "4       0.416700  0.000000           1    G1  153.225  ...   \n",
       "...          ...       ...         ...   ...      ...  ...   \n",
       "6982   -1.590000  0.000000           1    G1  277.276  ...   \n",
       "6983   -4.281695  0.000000           1    G1  212.333  ...   \n",
       "6984   -2.934200  0.000000           1    G1  279.340  ...   \n",
       "6985   -5.190500  0.000000           1    G1  333.371  ...   \n",
       "6986    0.571848  0.682833          10    G4  150.086  ...   \n",
       "\n",
       "      NumValenceElectrons  NumAromaticRings  NumSaturatedRings  \\\n",
       "0                    80.0               0.0                0.0   \n",
       "1                    74.0               1.0                0.0   \n",
       "2                    38.0               0.0                0.0   \n",
       "3                    72.0               2.0                0.0   \n",
       "4                    62.0               0.0                2.0   \n",
       "...                   ...               ...                ...   \n",
       "6982                106.0               1.0                1.0   \n",
       "6983                 88.0               0.0                1.0   \n",
       "6984                110.0               1.0                0.0   \n",
       "6985                110.0               2.0                0.0   \n",
       "6986                 58.0               0.0                0.0   \n",
       "\n",
       "      NumAliphaticRings  RingCount    TPSA   LabuteASA  BalabanJ     BertzCT  \\\n",
       "0                   0.0        0.0    9.23   83.867160  2.758150   71.193662   \n",
       "1                   1.0        2.0   81.83   78.829756  2.540230  389.563183   \n",
       "2                   0.0        0.0    9.23   39.312565  2.339092   15.900135   \n",
       "3                   0.0        2.0   23.79   89.610961  2.392308  414.202303   \n",
       "4                   2.0        2.0   20.31   67.568481  2.122767  162.401547   \n",
       "...                 ...        ...     ...         ...       ...         ...   \n",
       "6982                1.0        2.0   83.91  115.497288  1.892259  513.555365   \n",
       "6983                1.0        1.0   37.30   93.068481  2.672386  200.581493   \n",
       "6984                0.0        1.0   70.67  118.647088  2.687869  492.682650   \n",
       "6985                0.0        2.0   53.60  125.715292  2.218033  671.392314   \n",
       "6986                0.0        0.0  115.06   55.334057  4.069512  133.826806   \n",
       "\n",
       "      comp_id  \n",
       "0        1460  \n",
       "1        8962  \n",
       "2        4663  \n",
       "3        3846  \n",
       "4        4455  \n",
       "...       ...  \n",
       "6982     7690  \n",
       "6983     1072  \n",
       "6984     5266  \n",
       "6985     5820  \n",
       "6986     2089  \n",
       "\n",
       "[6987 rows x 27 columns]"
      ]
     },
     "execution_count": 5,
     "metadata": {},
     "output_type": "execute_result"
    }
   ],
   "source": [
    "df"
   ]
  },
  {
   "cell_type": "code",
   "execution_count": 6,
   "id": "8ba32438",
   "metadata": {
    "execution": {
     "iopub.execute_input": "2023-04-30T14:31:33.327859Z",
     "iopub.status.busy": "2023-04-30T14:31:33.327576Z",
     "iopub.status.idle": "2023-04-30T14:31:33.349550Z",
     "shell.execute_reply": "2023-04-30T14:31:33.347690Z"
    },
    "papermill": {
     "duration": 0.043306,
     "end_time": "2023-04-30T14:31:33.351683",
     "exception": false,
     "start_time": "2023-04-30T14:31:33.308377",
     "status": "completed"
    },
    "tags": []
   },
   "outputs": [
    {
     "name": "stdout",
     "output_type": "stream",
     "text": [
      "<class 'pandas.core.frame.DataFrame'>\n",
      "RangeIndex: 6987 entries, 0 to 6986\n",
      "Data columns (total 27 columns):\n",
      " #   Column               Non-Null Count  Dtype  \n",
      "---  ------               --------------  -----  \n",
      " 0   ID                   6987 non-null   object \n",
      " 1   Name                 6987 non-null   object \n",
      " 2   InChI                6987 non-null   object \n",
      " 3   InChIKey             6987 non-null   object \n",
      " 4   SMILES               6987 non-null   object \n",
      " 5   Solubility           6987 non-null   float64\n",
      " 6   SD                   6987 non-null   float64\n",
      " 7   Ocurrences           6987 non-null   int64  \n",
      " 8   Group                6987 non-null   object \n",
      " 9   MolWt                6987 non-null   float64\n",
      " 10  MolLogP              6987 non-null   float64\n",
      " 11  MolMR                6987 non-null   float64\n",
      " 12  HeavyAtomCount       6987 non-null   float64\n",
      " 13  NumHAcceptors        6987 non-null   float64\n",
      " 14  NumHDonors           6987 non-null   float64\n",
      " 15  NumHeteroatoms       6987 non-null   float64\n",
      " 16  NumRotatableBonds    6987 non-null   float64\n",
      " 17  NumValenceElectrons  6987 non-null   float64\n",
      " 18  NumAromaticRings     6987 non-null   float64\n",
      " 19  NumSaturatedRings    6987 non-null   float64\n",
      " 20  NumAliphaticRings    6987 non-null   float64\n",
      " 21  RingCount            6987 non-null   float64\n",
      " 22  TPSA                 6987 non-null   float64\n",
      " 23  LabuteASA            6987 non-null   float64\n",
      " 24  BalabanJ             6987 non-null   float64\n",
      " 25  BertzCT              6987 non-null   float64\n",
      " 26  comp_id              6987 non-null   int64  \n",
      "dtypes: float64(19), int64(2), object(6)\n",
      "memory usage: 1.4+ MB\n"
     ]
    }
   ],
   "source": [
    "df.info()"
   ]
  },
  {
   "cell_type": "code",
   "execution_count": 7,
   "id": "a87a6030",
   "metadata": {
    "execution": {
     "iopub.execute_input": "2023-04-30T14:31:33.390222Z",
     "iopub.status.busy": "2023-04-30T14:31:33.389910Z",
     "iopub.status.idle": "2023-04-30T14:31:33.456870Z",
     "shell.execute_reply": "2023-04-30T14:31:33.455776Z"
    },
    "papermill": {
     "duration": 0.088635,
     "end_time": "2023-04-30T14:31:33.458918",
     "exception": false,
     "start_time": "2023-04-30T14:31:33.370283",
     "status": "completed"
    },
    "tags": []
   },
   "outputs": [
    {
     "data": {
      "text/html": [
       "<div>\n",
       "<style scoped>\n",
       "    .dataframe tbody tr th:only-of-type {\n",
       "        vertical-align: middle;\n",
       "    }\n",
       "\n",
       "    .dataframe tbody tr th {\n",
       "        vertical-align: top;\n",
       "    }\n",
       "\n",
       "    .dataframe thead th {\n",
       "        text-align: right;\n",
       "    }\n",
       "</style>\n",
       "<table border=\"1\" class=\"dataframe\">\n",
       "  <thead>\n",
       "    <tr style=\"text-align: right;\">\n",
       "      <th></th>\n",
       "      <th>Solubility</th>\n",
       "      <th>SD</th>\n",
       "      <th>Ocurrences</th>\n",
       "      <th>MolWt</th>\n",
       "      <th>MolLogP</th>\n",
       "      <th>MolMR</th>\n",
       "      <th>HeavyAtomCount</th>\n",
       "      <th>NumHAcceptors</th>\n",
       "      <th>NumHDonors</th>\n",
       "      <th>NumHeteroatoms</th>\n",
       "      <th>...</th>\n",
       "      <th>NumValenceElectrons</th>\n",
       "      <th>NumAromaticRings</th>\n",
       "      <th>NumSaturatedRings</th>\n",
       "      <th>NumAliphaticRings</th>\n",
       "      <th>RingCount</th>\n",
       "      <th>TPSA</th>\n",
       "      <th>LabuteASA</th>\n",
       "      <th>BalabanJ</th>\n",
       "      <th>BertzCT</th>\n",
       "      <th>comp_id</th>\n",
       "    </tr>\n",
       "  </thead>\n",
       "  <tbody>\n",
       "    <tr>\n",
       "      <th>count</th>\n",
       "      <td>6987.000000</td>\n",
       "      <td>6987.000000</td>\n",
       "      <td>6987.000000</td>\n",
       "      <td>6987.000000</td>\n",
       "      <td>6987.000000</td>\n",
       "      <td>6987.000000</td>\n",
       "      <td>6987.000000</td>\n",
       "      <td>6987.000000</td>\n",
       "      <td>6987.000000</td>\n",
       "      <td>6987.000000</td>\n",
       "      <td>...</td>\n",
       "      <td>6987.000000</td>\n",
       "      <td>6987.000000</td>\n",
       "      <td>6987.000000</td>\n",
       "      <td>6987.000000</td>\n",
       "      <td>6987.000000</td>\n",
       "      <td>6987.000000</td>\n",
       "      <td>6987.000000</td>\n",
       "      <td>6987.000000</td>\n",
       "      <td>6987.000000</td>\n",
       "      <td>6987.000000</td>\n",
       "    </tr>\n",
       "    <tr>\n",
       "      <th>mean</th>\n",
       "      <td>-2.901533</td>\n",
       "      <td>0.067631</td>\n",
       "      <td>1.375841</td>\n",
       "      <td>268.566648</td>\n",
       "      <td>1.992814</td>\n",
       "      <td>67.338892</td>\n",
       "      <td>17.521111</td>\n",
       "      <td>3.528553</td>\n",
       "      <td>1.118935</td>\n",
       "      <td>5.237584</td>\n",
       "      <td>...</td>\n",
       "      <td>95.004437</td>\n",
       "      <td>1.079004</td>\n",
       "      <td>0.294690</td>\n",
       "      <td>0.451553</td>\n",
       "      <td>1.530557</td>\n",
       "      <td>63.202691</td>\n",
       "      <td>109.760218</td>\n",
       "      <td>2.389069</td>\n",
       "      <td>474.707556</td>\n",
       "      <td>5020.937312</td>\n",
       "    </tr>\n",
       "    <tr>\n",
       "      <th>std</th>\n",
       "      <td>2.377531</td>\n",
       "      <td>0.238107</td>\n",
       "      <td>1.024258</td>\n",
       "      <td>187.703886</td>\n",
       "      <td>3.569885</td>\n",
       "      <td>48.291920</td>\n",
       "      <td>12.642758</td>\n",
       "      <td>3.549758</td>\n",
       "      <td>1.457194</td>\n",
       "      <td>4.753675</td>\n",
       "      <td>...</td>\n",
       "      <td>66.658404</td>\n",
       "      <td>1.338521</td>\n",
       "      <td>0.815172</td>\n",
       "      <td>1.005877</td>\n",
       "      <td>1.634609</td>\n",
       "      <td>64.179108</td>\n",
       "      <td>79.022931</td>\n",
       "      <td>1.091260</td>\n",
       "      <td>572.552600</td>\n",
       "      <td>2889.935140</td>\n",
       "    </tr>\n",
       "    <tr>\n",
       "      <th>min</th>\n",
       "      <td>-13.171900</td>\n",
       "      <td>0.000000</td>\n",
       "      <td>1.000000</td>\n",
       "      <td>9.012000</td>\n",
       "      <td>-40.873200</td>\n",
       "      <td>0.000000</td>\n",
       "      <td>1.000000</td>\n",
       "      <td>0.000000</td>\n",
       "      <td>0.000000</td>\n",
       "      <td>0.000000</td>\n",
       "      <td>...</td>\n",
       "      <td>0.000000</td>\n",
       "      <td>0.000000</td>\n",
       "      <td>0.000000</td>\n",
       "      <td>0.000000</td>\n",
       "      <td>0.000000</td>\n",
       "      <td>0.000000</td>\n",
       "      <td>7.581939</td>\n",
       "      <td>-0.000004</td>\n",
       "      <td>0.000000</td>\n",
       "      <td>1.000000</td>\n",
       "    </tr>\n",
       "    <tr>\n",
       "      <th>25%</th>\n",
       "      <td>-4.365876</td>\n",
       "      <td>0.000000</td>\n",
       "      <td>1.000000</td>\n",
       "      <td>163.182000</td>\n",
       "      <td>0.604350</td>\n",
       "      <td>40.740850</td>\n",
       "      <td>11.000000</td>\n",
       "      <td>2.000000</td>\n",
       "      <td>0.000000</td>\n",
       "      <td>3.000000</td>\n",
       "      <td>...</td>\n",
       "      <td>58.000000</td>\n",
       "      <td>0.000000</td>\n",
       "      <td>0.000000</td>\n",
       "      <td>0.000000</td>\n",
       "      <td>0.000000</td>\n",
       "      <td>26.300000</td>\n",
       "      <td>66.954471</td>\n",
       "      <td>2.000000</td>\n",
       "      <td>164.246629</td>\n",
       "      <td>2522.500000</td>\n",
       "    </tr>\n",
       "    <tr>\n",
       "      <th>50%</th>\n",
       "      <td>-2.622796</td>\n",
       "      <td>0.000000</td>\n",
       "      <td>1.000000</td>\n",
       "      <td>229.233000</td>\n",
       "      <td>1.951100</td>\n",
       "      <td>59.130200</td>\n",
       "      <td>15.000000</td>\n",
       "      <td>3.000000</td>\n",
       "      <td>1.000000</td>\n",
       "      <td>4.000000</td>\n",
       "      <td>...</td>\n",
       "      <td>82.000000</td>\n",
       "      <td>1.000000</td>\n",
       "      <td>0.000000</td>\n",
       "      <td>0.000000</td>\n",
       "      <td>1.000000</td>\n",
       "      <td>51.210000</td>\n",
       "      <td>93.704021</td>\n",
       "      <td>2.539539</td>\n",
       "      <td>359.261280</td>\n",
       "      <td>5023.000000</td>\n",
       "    </tr>\n",
       "    <tr>\n",
       "      <th>75%</th>\n",
       "      <td>-1.203250</td>\n",
       "      <td>0.000000</td>\n",
       "      <td>1.000000</td>\n",
       "      <td>322.390000</td>\n",
       "      <td>3.448950</td>\n",
       "      <td>82.267800</td>\n",
       "      <td>21.000000</td>\n",
       "      <td>4.000000</td>\n",
       "      <td>2.000000</td>\n",
       "      <td>6.000000</td>\n",
       "      <td>...</td>\n",
       "      <td>112.000000</td>\n",
       "      <td>2.000000</td>\n",
       "      <td>0.000000</td>\n",
       "      <td>1.000000</td>\n",
       "      <td>2.000000</td>\n",
       "      <td>80.640000</td>\n",
       "      <td>129.500469</td>\n",
       "      <td>3.023716</td>\n",
       "      <td>615.511782</td>\n",
       "      <td>7549.500000</td>\n",
       "    </tr>\n",
       "    <tr>\n",
       "      <th>max</th>\n",
       "      <td>2.137682</td>\n",
       "      <td>3.870145</td>\n",
       "      <td>38.000000</td>\n",
       "      <td>5299.456000</td>\n",
       "      <td>68.541140</td>\n",
       "      <td>1419.351700</td>\n",
       "      <td>388.000000</td>\n",
       "      <td>86.000000</td>\n",
       "      <td>21.000000</td>\n",
       "      <td>89.000000</td>\n",
       "      <td>...</td>\n",
       "      <td>2012.000000</td>\n",
       "      <td>35.000000</td>\n",
       "      <td>21.000000</td>\n",
       "      <td>21.000000</td>\n",
       "      <td>36.000000</td>\n",
       "      <td>1214.340000</td>\n",
       "      <td>2230.685124</td>\n",
       "      <td>7.517310</td>\n",
       "      <td>20720.267708</td>\n",
       "      <td>9981.000000</td>\n",
       "    </tr>\n",
       "  </tbody>\n",
       "</table>\n",
       "<p>8 rows × 21 columns</p>\n",
       "</div>"
      ],
      "text/plain": [
       "        Solubility           SD   Ocurrences        MolWt      MolLogP  \\\n",
       "count  6987.000000  6987.000000  6987.000000  6987.000000  6987.000000   \n",
       "mean     -2.901533     0.067631     1.375841   268.566648     1.992814   \n",
       "std       2.377531     0.238107     1.024258   187.703886     3.569885   \n",
       "min     -13.171900     0.000000     1.000000     9.012000   -40.873200   \n",
       "25%      -4.365876     0.000000     1.000000   163.182000     0.604350   \n",
       "50%      -2.622796     0.000000     1.000000   229.233000     1.951100   \n",
       "75%      -1.203250     0.000000     1.000000   322.390000     3.448950   \n",
       "max       2.137682     3.870145    38.000000  5299.456000    68.541140   \n",
       "\n",
       "             MolMR  HeavyAtomCount  NumHAcceptors   NumHDonors  \\\n",
       "count  6987.000000     6987.000000    6987.000000  6987.000000   \n",
       "mean     67.338892       17.521111       3.528553     1.118935   \n",
       "std      48.291920       12.642758       3.549758     1.457194   \n",
       "min       0.000000        1.000000       0.000000     0.000000   \n",
       "25%      40.740850       11.000000       2.000000     0.000000   \n",
       "50%      59.130200       15.000000       3.000000     1.000000   \n",
       "75%      82.267800       21.000000       4.000000     2.000000   \n",
       "max    1419.351700      388.000000      86.000000    21.000000   \n",
       "\n",
       "       NumHeteroatoms  ...  NumValenceElectrons  NumAromaticRings  \\\n",
       "count     6987.000000  ...          6987.000000       6987.000000   \n",
       "mean         5.237584  ...            95.004437          1.079004   \n",
       "std          4.753675  ...            66.658404          1.338521   \n",
       "min          0.000000  ...             0.000000          0.000000   \n",
       "25%          3.000000  ...            58.000000          0.000000   \n",
       "50%          4.000000  ...            82.000000          1.000000   \n",
       "75%          6.000000  ...           112.000000          2.000000   \n",
       "max         89.000000  ...          2012.000000         35.000000   \n",
       "\n",
       "       NumSaturatedRings  NumAliphaticRings    RingCount         TPSA  \\\n",
       "count        6987.000000        6987.000000  6987.000000  6987.000000   \n",
       "mean            0.294690           0.451553     1.530557    63.202691   \n",
       "std             0.815172           1.005877     1.634609    64.179108   \n",
       "min             0.000000           0.000000     0.000000     0.000000   \n",
       "25%             0.000000           0.000000     0.000000    26.300000   \n",
       "50%             0.000000           0.000000     1.000000    51.210000   \n",
       "75%             0.000000           1.000000     2.000000    80.640000   \n",
       "max            21.000000          21.000000    36.000000  1214.340000   \n",
       "\n",
       "         LabuteASA     BalabanJ       BertzCT      comp_id  \n",
       "count  6987.000000  6987.000000   6987.000000  6987.000000  \n",
       "mean    109.760218     2.389069    474.707556  5020.937312  \n",
       "std      79.022931     1.091260    572.552600  2889.935140  \n",
       "min       7.581939    -0.000004      0.000000     1.000000  \n",
       "25%      66.954471     2.000000    164.246629  2522.500000  \n",
       "50%      93.704021     2.539539    359.261280  5023.000000  \n",
       "75%     129.500469     3.023716    615.511782  7549.500000  \n",
       "max    2230.685124     7.517310  20720.267708  9981.000000  \n",
       "\n",
       "[8 rows x 21 columns]"
      ]
     },
     "execution_count": 7,
     "metadata": {},
     "output_type": "execute_result"
    }
   ],
   "source": [
    "df.describe()"
   ]
  },
  {
   "cell_type": "code",
   "execution_count": 8,
   "id": "692a4894",
   "metadata": {
    "execution": {
     "iopub.execute_input": "2023-04-30T14:31:33.498405Z",
     "iopub.status.busy": "2023-04-30T14:31:33.497682Z",
     "iopub.status.idle": "2023-04-30T14:31:33.509824Z",
     "shell.execute_reply": "2023-04-30T14:31:33.508907Z"
    },
    "papermill": {
     "duration": 0.034052,
     "end_time": "2023-04-30T14:31:33.512032",
     "exception": false,
     "start_time": "2023-04-30T14:31:33.477980",
     "status": "completed"
    },
    "tags": []
   },
   "outputs": [
    {
     "data": {
      "text/plain": [
       "ID                     0\n",
       "Name                   0\n",
       "InChI                  0\n",
       "InChIKey               0\n",
       "SMILES                 0\n",
       "Solubility             0\n",
       "SD                     0\n",
       "Ocurrences             0\n",
       "Group                  0\n",
       "MolWt                  0\n",
       "MolLogP                0\n",
       "MolMR                  0\n",
       "HeavyAtomCount         0\n",
       "NumHAcceptors          0\n",
       "NumHDonors             0\n",
       "NumHeteroatoms         0\n",
       "NumRotatableBonds      0\n",
       "NumValenceElectrons    0\n",
       "NumAromaticRings       0\n",
       "NumSaturatedRings      0\n",
       "NumAliphaticRings      0\n",
       "RingCount              0\n",
       "TPSA                   0\n",
       "LabuteASA              0\n",
       "BalabanJ               0\n",
       "BertzCT                0\n",
       "comp_id                0\n",
       "dtype: int64"
      ]
     },
     "execution_count": 8,
     "metadata": {},
     "output_type": "execute_result"
    }
   ],
   "source": [
    "df.isna().sum()"
   ]
  },
  {
   "cell_type": "code",
   "execution_count": 9,
   "id": "1466b480",
   "metadata": {
    "execution": {
     "iopub.execute_input": "2023-04-30T14:31:33.551952Z",
     "iopub.status.busy": "2023-04-30T14:31:33.551047Z",
     "iopub.status.idle": "2023-04-30T14:31:33.573329Z",
     "shell.execute_reply": "2023-04-30T14:31:33.572274Z"
    },
    "papermill": {
     "duration": 0.04428,
     "end_time": "2023-04-30T14:31:33.575406",
     "exception": false,
     "start_time": "2023-04-30T14:31:33.531126",
     "status": "completed"
    },
    "tags": []
   },
   "outputs": [
    {
     "data": {
      "text/plain": [
       "0"
      ]
     },
     "execution_count": 9,
     "metadata": {},
     "output_type": "execute_result"
    }
   ],
   "source": [
    "df.duplicated().sum()"
   ]
  },
  {
   "cell_type": "markdown",
   "id": "baf318d9",
   "metadata": {
    "papermill": {
     "duration": 0.018868,
     "end_time": "2023-04-30T14:31:33.613150",
     "exception": false,
     "start_time": "2023-04-30T14:31:33.594282",
     "status": "completed"
    },
    "tags": []
   },
   "source": [
    "## **Calculate molecular descriptors in rdkit**"
   ]
  },
  {
   "cell_type": "markdown",
   "id": "84385614",
   "metadata": {
    "papermill": {
     "duration": 0.01873,
     "end_time": "2023-04-30T14:31:33.650890",
     "exception": false,
     "start_time": "2023-04-30T14:31:33.632160",
     "status": "completed"
    },
    "tags": []
   },
   "source": [
    "#### **Convert list of molecules to rdkit object**"
   ]
  },
  {
   "cell_type": "code",
   "execution_count": 10,
   "id": "d87296c0",
   "metadata": {
    "execution": {
     "iopub.execute_input": "2023-04-30T14:31:33.690789Z",
     "iopub.status.busy": "2023-04-30T14:31:33.689805Z",
     "iopub.status.idle": "2023-04-30T14:31:33.695411Z",
     "shell.execute_reply": "2023-04-30T14:31:33.694483Z"
    },
    "papermill": {
     "duration": 0.027802,
     "end_time": "2023-04-30T14:31:33.697470",
     "exception": false,
     "start_time": "2023-04-30T14:31:33.669668",
     "status": "completed"
    },
    "tags": []
   },
   "outputs": [],
   "source": [
    "def get_mol_list(sol):\n",
    "    mol_list= []\n",
    "    for element in sol.SMILES:\n",
    "      mol = Chem.MolFromSmiles(element)\n",
    "      mol_list.append(mol)\n",
    "    return mol_list"
   ]
  },
  {
   "cell_type": "code",
   "execution_count": 11,
   "id": "8a9b8734",
   "metadata": {
    "execution": {
     "iopub.execute_input": "2023-04-30T14:31:33.737221Z",
     "iopub.status.busy": "2023-04-30T14:31:33.736301Z",
     "iopub.status.idle": "2023-04-30T14:31:34.703014Z",
     "shell.execute_reply": "2023-04-30T14:31:34.701761Z"
    },
    "papermill": {
     "duration": 0.98896,
     "end_time": "2023-04-30T14:31:34.705290",
     "exception": false,
     "start_time": "2023-04-30T14:31:33.716330",
     "status": "completed"
    },
    "tags": []
   },
   "outputs": [
    {
     "name": "stderr",
     "output_type": "stream",
     "text": [
      "[14:31:33] WARNING: not removing hydrogen atom without neighbors\n",
      "[14:31:33] WARNING: not removing hydrogen atom without neighbors\n",
      "[14:31:33] WARNING: not removing hydrogen atom without neighbors\n",
      "[14:31:33] WARNING: not removing hydrogen atom without neighbors\n",
      "[14:31:33] WARNING: not removing hydrogen atom without neighbors\n",
      "[14:31:33] WARNING: not removing hydrogen atom without neighbors\n",
      "[14:31:33] WARNING: not removing hydrogen atom without neighbors\n",
      "[14:31:33] WARNING: not removing hydrogen atom without neighbors\n",
      "[14:31:33] WARNING: not removing hydrogen atom without neighbors\n",
      "[14:31:33] WARNING: not removing hydrogen atom without neighbors\n",
      "[14:31:33] WARNING: not removing hydrogen atom without neighbors\n",
      "[14:31:33] WARNING: not removing hydrogen atom without neighbors\n",
      "[14:31:33] WARNING: not removing hydrogen atom without neighbors\n",
      "[14:31:33] WARNING: not removing hydrogen atom without neighbors\n",
      "[14:31:33] WARNING: not removing hydrogen atom without neighbors\n",
      "[14:31:33] WARNING: not removing hydrogen atom without neighbors\n",
      "[14:31:33] WARNING: not removing hydrogen atom without neighbors\n",
      "[14:31:33] WARNING: not removing hydrogen atom without neighbors\n",
      "[14:31:33] WARNING: not removing hydrogen atom without neighbors\n",
      "[14:31:33] WARNING: not removing hydrogen atom without neighbors\n",
      "[14:31:33] WARNING: not removing hydrogen atom without neighbors\n",
      "[14:31:33] WARNING: not removing hydrogen atom without neighbors\n",
      "[14:31:33] WARNING: not removing hydrogen atom without neighbors\n",
      "[14:31:34] WARNING: not removing hydrogen atom without neighbors\n",
      "[14:31:34] WARNING: not removing hydrogen atom without neighbors\n",
      "[14:31:34] WARNING: not removing hydrogen atom without neighbors\n",
      "[14:31:34] WARNING: not removing hydrogen atom without neighbors\n",
      "[14:31:34] WARNING: not removing hydrogen atom without neighbors\n",
      "[14:31:34] WARNING: not removing hydrogen atom without neighbors\n",
      "[14:31:34] WARNING: not removing hydrogen atom without neighbors\n",
      "[14:31:34] WARNING: not removing hydrogen atom without neighbors\n",
      "[14:31:34] WARNING: not removing hydrogen atom without neighbors\n",
      "[14:31:34] WARNING: not removing hydrogen atom without neighbors\n",
      "[14:31:34] WARNING: not removing hydrogen atom without neighbors\n",
      "[14:31:34] WARNING: not removing hydrogen atom without neighbors\n",
      "[14:31:34] WARNING: not removing hydrogen atom without neighbors\n",
      "[14:31:34] WARNING: not removing hydrogen atom without neighbors\n",
      "[14:31:34] WARNING: not removing hydrogen atom without neighbors\n",
      "[14:31:34] WARNING: not removing hydrogen atom without neighbors\n",
      "[14:31:34] WARNING: not removing hydrogen atom without neighbors\n",
      "[14:31:34] WARNING: not removing hydrogen atom without neighbors\n",
      "[14:31:34] WARNING: not removing hydrogen atom without neighbors\n",
      "[14:31:34] WARNING: not removing hydrogen atom without neighbors\n",
      "[14:31:34] WARNING: not removing hydrogen atom without neighbors\n",
      "[14:31:34] WARNING: not removing hydrogen atom without neighbors\n",
      "[14:31:34] WARNING: not removing hydrogen atom without neighbors\n",
      "[14:31:34] WARNING: not removing hydrogen atom without neighbors\n",
      "[14:31:34] WARNING: not removing hydrogen atom without neighbors\n",
      "[14:31:34] WARNING: not removing hydrogen atom without neighbors\n",
      "[14:31:34] WARNING: not removing hydrogen atom without neighbors\n",
      "[14:31:34] WARNING: not removing hydrogen atom without neighbors\n",
      "[14:31:34] WARNING: not removing hydrogen atom without neighbors\n",
      "[14:31:34] WARNING: not removing hydrogen atom without neighbors\n",
      "[14:31:34] WARNING: not removing hydrogen atom without neighbors\n",
      "[14:31:34] WARNING: not removing hydrogen atom without neighbors\n",
      "[14:31:34] WARNING: not removing hydrogen atom without neighbors\n",
      "[14:31:34] WARNING: not removing hydrogen atom without neighbors\n",
      "[14:31:34] WARNING: not removing hydrogen atom without neighbors\n",
      "[14:31:34] WARNING: not removing hydrogen atom without neighbors\n",
      "[14:31:34] WARNING: not removing hydrogen atom without neighbors\n",
      "[14:31:34] WARNING: not removing hydrogen atom without neighbors\n",
      "[14:31:34] WARNING: not removing hydrogen atom without neighbors\n",
      "[14:31:34] WARNING: not removing hydrogen atom without neighbors\n",
      "[14:31:34] WARNING: not removing hydrogen atom without neighbors\n",
      "[14:31:34] WARNING: not removing hydrogen atom without neighbors\n"
     ]
    }
   ],
   "source": [
    "mol_list=get_mol_list(df)\n",
    "mol_list_test=get_mol_list(df_test)"
   ]
  },
  {
   "cell_type": "markdown",
   "id": "5ac5d326",
   "metadata": {
    "papermill": {
     "duration": 0.019068,
     "end_time": "2023-04-30T14:31:34.744068",
     "exception": false,
     "start_time": "2023-04-30T14:31:34.725000",
     "status": "completed"
    },
    "tags": []
   },
   "source": [
    "**Calculate molecular descriptors**\n",
    "\n",
    "To predict LogS (log of the aqueous solubility), the study by Delaney makes use of 4 molecular descriptors:\n",
    "\n",
    "1. cLogP (Octanol-water partition coefficient)\n",
    "2. MW (Molecular weight)\n",
    "3. RB (Number of rotatable bonds)\n",
    "4. AP (Aromatic proportion = number of aromatic atoms / total number of heavy atoms)\n",
    "\n",
    "Unfortunately, rdkit readily computes the first 3. As for the AP descriptor, we will calculate this by manually computing the ratio of the number of aromatic atoms to the total number of heavy atoms which rdkit can compute."
   ]
  },
  {
   "cell_type": "code",
   "execution_count": 12,
   "id": "6da1b166",
   "metadata": {
    "execution": {
     "iopub.execute_input": "2023-04-30T14:31:34.784403Z",
     "iopub.status.busy": "2023-04-30T14:31:34.783606Z",
     "iopub.status.idle": "2023-04-30T14:31:34.791180Z",
     "shell.execute_reply": "2023-04-30T14:31:34.790017Z"
    },
    "papermill": {
     "duration": 0.029952,
     "end_time": "2023-04-30T14:31:34.793312",
     "exception": false,
     "start_time": "2023-04-30T14:31:34.763360",
     "status": "completed"
    },
    "tags": []
   },
   "outputs": [],
   "source": [
    "def generate(smiles, verbose=False):\n",
    "\n",
    "    moldata= []\n",
    "    for elem in smiles:\n",
    "        mol=Chem.MolFromSmiles(elem) \n",
    "        moldata.append(mol)\n",
    "       \n",
    "    baseData= np.arange(1,1)\n",
    "    i=0  \n",
    "    for mol in moldata:        \n",
    "       \n",
    "        desc_MolLogP = Descriptors.MolLogP(mol)\n",
    "        desc_MolWt = Descriptors.MolWt(mol)\n",
    "        desc_NumRotatableBonds = Descriptors.NumRotatableBonds(mol)\n",
    "           \n",
    "        row = np.array([desc_MolLogP,\n",
    "                        desc_MolWt,\n",
    "                        desc_NumRotatableBonds])   \n",
    "    \n",
    "        if(i==0):\n",
    "            baseData=row\n",
    "        else:\n",
    "            baseData=np.vstack([baseData, row])\n",
    "        i=i+1      \n",
    "    \n",
    "    columnNames=[\"MolLogP\",\"MolWt\",\"NumRotatableBonds\"]   \n",
    "    descriptors = pd.DataFrame(data=baseData,columns=columnNames)\n",
    "    \n",
    "    return descriptors\n"
   ]
  },
  {
   "cell_type": "markdown",
   "id": "8414677b",
   "metadata": {
    "papermill": {
     "duration": 0.018977,
     "end_time": "2023-04-30T14:31:34.831323",
     "exception": false,
     "start_time": "2023-04-30T14:31:34.812346",
     "status": "completed"
    },
    "tags": []
   },
   "source": [
    "##### **Aromatic proportion**"
   ]
  },
  {
   "cell_type": "markdown",
   "id": "78b8ab0d",
   "metadata": {
    "papermill": {
     "duration": 0.02202,
     "end_time": "2023-04-30T14:31:34.872591",
     "exception": false,
     "start_time": "2023-04-30T14:31:34.850571",
     "status": "completed"
    },
    "tags": []
   },
   "source": [
    "- **Number of aromatic atoms :**\n",
    "    Here, we will create a custom function to calculate the Number of aromatic atoms.\n",
    "    With this descriptor we can use it to subsequently calculate the AP descriptor."
   ]
  },
  {
   "cell_type": "code",
   "execution_count": 13,
   "id": "cfd56fca",
   "metadata": {
    "execution": {
     "iopub.execute_input": "2023-04-30T14:31:34.913068Z",
     "iopub.status.busy": "2023-04-30T14:31:34.912424Z",
     "iopub.status.idle": "2023-04-30T14:31:34.917990Z",
     "shell.execute_reply": "2023-04-30T14:31:34.916958Z"
    },
    "papermill": {
     "duration": 0.028215,
     "end_time": "2023-04-30T14:31:34.920233",
     "exception": false,
     "start_time": "2023-04-30T14:31:34.892018",
     "status": "completed"
    },
    "tags": []
   },
   "outputs": [],
   "source": [
    "def AromaticAtoms(m):\n",
    "  aromatic_atoms = [m.GetAtomWithIdx(i).GetIsAromatic() for i in range(m.GetNumAtoms())]\n",
    "  aa_count = []\n",
    "  for i in aromatic_atoms:\n",
    "    if i==True:\n",
    "      aa_count.append(1)\n",
    "  sum_aa_count = sum(aa_count)\n",
    "  return sum_aa_count"
   ]
  },
  {
   "cell_type": "code",
   "execution_count": 14,
   "id": "27e32813",
   "metadata": {
    "execution": {
     "iopub.execute_input": "2023-04-30T14:31:34.960606Z",
     "iopub.status.busy": "2023-04-30T14:31:34.960288Z",
     "iopub.status.idle": "2023-04-30T14:31:35.184292Z",
     "shell.execute_reply": "2023-04-30T14:31:35.183260Z"
    },
    "papermill": {
     "duration": 0.247132,
     "end_time": "2023-04-30T14:31:35.186712",
     "exception": false,
     "start_time": "2023-04-30T14:31:34.939580",
     "status": "completed"
    },
    "tags": []
   },
   "outputs": [],
   "source": [
    "desc_AromaticAtoms = [AromaticAtoms(element) for element in mol_list]\n",
    "desc_AromaticAtoms_test = [AromaticAtoms(element) for element in mol_list_test]"
   ]
  },
  {
   "cell_type": "markdown",
   "id": "7b1c856f",
   "metadata": {
    "papermill": {
     "duration": 0.01909,
     "end_time": "2023-04-30T14:31:35.225551",
     "exception": false,
     "start_time": "2023-04-30T14:31:35.206461",
     "status": "completed"
    },
    "tags": []
   },
   "source": [
    "- **Number of heavy atoms :**\n",
    "Here, we will use an existing function for calculating the Number of heavy atoms."
   ]
  },
  {
   "cell_type": "code",
   "execution_count": 15,
   "id": "fad25754",
   "metadata": {
    "execution": {
     "iopub.execute_input": "2023-04-30T14:31:35.265699Z",
     "iopub.status.busy": "2023-04-30T14:31:35.265392Z",
     "iopub.status.idle": "2023-04-30T14:31:35.291954Z",
     "shell.execute_reply": "2023-04-30T14:31:35.291034Z"
    },
    "papermill": {
     "duration": 0.049413,
     "end_time": "2023-04-30T14:31:35.294041",
     "exception": false,
     "start_time": "2023-04-30T14:31:35.244628",
     "status": "completed"
    },
    "tags": []
   },
   "outputs": [],
   "source": [
    "desc_HeavyAtomCount = [Descriptors.HeavyAtomCount(element) for element in mol_list]\n",
    "desc_HeavyAtomCount_test = [Descriptors.HeavyAtomCount(element) for element in mol_list_test]"
   ]
  },
  {
   "cell_type": "markdown",
   "id": "e51dc0c9",
   "metadata": {
    "papermill": {
     "duration": 0.018969,
     "end_time": "2023-04-30T14:31:35.332311",
     "exception": false,
     "start_time": "2023-04-30T14:31:35.313342",
     "status": "completed"
    },
    "tags": []
   },
   "source": [
    "**Computing the Aromatic Proportion (AP) descriptor**"
   ]
  },
  {
   "cell_type": "code",
   "execution_count": 16,
   "id": "80f51dad",
   "metadata": {
    "execution": {
     "iopub.execute_input": "2023-04-30T14:31:35.371816Z",
     "iopub.status.busy": "2023-04-30T14:31:35.371519Z",
     "iopub.status.idle": "2023-04-30T14:31:35.600538Z",
     "shell.execute_reply": "2023-04-30T14:31:35.599548Z"
    },
    "papermill": {
     "duration": 0.251573,
     "end_time": "2023-04-30T14:31:35.602955",
     "exception": false,
     "start_time": "2023-04-30T14:31:35.351382",
     "status": "completed"
    },
    "tags": []
   },
   "outputs": [],
   "source": [
    "desc_AromaticProportion = [AromaticAtoms(element)/Descriptors.HeavyAtomCount(element) for element in mol_list]\n",
    "desc_AromaticProportion_test = [AromaticAtoms(element)/Descriptors.HeavyAtomCount(element) for element in mol_list_test]"
   ]
  },
  {
   "cell_type": "markdown",
   "id": "6808aaa2",
   "metadata": {
    "papermill": {
     "duration": 0.019229,
     "end_time": "2023-04-30T14:31:35.641870",
     "exception": false,
     "start_time": "2023-04-30T14:31:35.622641",
     "status": "completed"
    },
    "tags": []
   },
   "source": [
    "### **Creating DataFrame**"
   ]
  },
  {
   "cell_type": "code",
   "execution_count": 17,
   "id": "e811401f",
   "metadata": {
    "execution": {
     "iopub.execute_input": "2023-04-30T14:31:35.681861Z",
     "iopub.status.busy": "2023-04-30T14:31:35.681529Z",
     "iopub.status.idle": "2023-04-30T14:31:41.168120Z",
     "shell.execute_reply": "2023-04-30T14:31:41.167019Z"
    },
    "papermill": {
     "duration": 5.509529,
     "end_time": "2023-04-30T14:31:41.170647",
     "exception": false,
     "start_time": "2023-04-30T14:31:35.661118",
     "status": "completed"
    },
    "tags": []
   },
   "outputs": [
    {
     "name": "stderr",
     "output_type": "stream",
     "text": [
      "[14:31:35] WARNING: not removing hydrogen atom without neighbors\n",
      "[14:31:35] WARNING: not removing hydrogen atom without neighbors\n",
      "[14:31:35] WARNING: not removing hydrogen atom without neighbors\n",
      "[14:31:35] WARNING: not removing hydrogen atom without neighbors\n",
      "[14:31:35] WARNING: not removing hydrogen atom without neighbors\n",
      "[14:31:35] WARNING: not removing hydrogen atom without neighbors\n",
      "[14:31:35] WARNING: not removing hydrogen atom without neighbors\n",
      "[14:31:35] WARNING: not removing hydrogen atom without neighbors\n",
      "[14:31:35] WARNING: not removing hydrogen atom without neighbors\n",
      "[14:31:35] WARNING: not removing hydrogen atom without neighbors\n",
      "[14:31:35] WARNING: not removing hydrogen atom without neighbors\n",
      "[14:31:35] WARNING: not removing hydrogen atom without neighbors\n",
      "[14:31:35] WARNING: not removing hydrogen atom without neighbors\n",
      "[14:31:35] WARNING: not removing hydrogen atom without neighbors\n",
      "[14:31:35] WARNING: not removing hydrogen atom without neighbors\n",
      "[14:31:35] WARNING: not removing hydrogen atom without neighbors\n",
      "[14:31:35] WARNING: not removing hydrogen atom without neighbors\n",
      "[14:31:35] WARNING: not removing hydrogen atom without neighbors\n",
      "[14:31:35] WARNING: not removing hydrogen atom without neighbors\n",
      "[14:31:35] WARNING: not removing hydrogen atom without neighbors\n",
      "[14:31:35] WARNING: not removing hydrogen atom without neighbors\n",
      "[14:31:35] WARNING: not removing hydrogen atom without neighbors\n",
      "[14:31:35] WARNING: not removing hydrogen atom without neighbors\n",
      "[14:31:35] WARNING: not removing hydrogen atom without neighbors\n",
      "[14:31:36] WARNING: not removing hydrogen atom without neighbors\n",
      "[14:31:36] WARNING: not removing hydrogen atom without neighbors\n",
      "[14:31:36] WARNING: not removing hydrogen atom without neighbors\n",
      "[14:31:36] WARNING: not removing hydrogen atom without neighbors\n",
      "[14:31:36] WARNING: not removing hydrogen atom without neighbors\n",
      "[14:31:36] WARNING: not removing hydrogen atom without neighbors\n",
      "[14:31:36] WARNING: not removing hydrogen atom without neighbors\n",
      "[14:31:36] WARNING: not removing hydrogen atom without neighbors\n",
      "[14:31:36] WARNING: not removing hydrogen atom without neighbors\n",
      "[14:31:36] WARNING: not removing hydrogen atom without neighbors\n",
      "[14:31:36] WARNING: not removing hydrogen atom without neighbors\n",
      "[14:31:36] WARNING: not removing hydrogen atom without neighbors\n",
      "[14:31:36] WARNING: not removing hydrogen atom without neighbors\n",
      "[14:31:36] WARNING: not removing hydrogen atom without neighbors\n",
      "[14:31:36] WARNING: not removing hydrogen atom without neighbors\n",
      "[14:31:36] WARNING: not removing hydrogen atom without neighbors\n",
      "[14:31:36] WARNING: not removing hydrogen atom without neighbors\n",
      "[14:31:36] WARNING: not removing hydrogen atom without neighbors\n",
      "[14:31:36] WARNING: not removing hydrogen atom without neighbors\n",
      "[14:31:36] WARNING: not removing hydrogen atom without neighbors\n",
      "[14:31:36] WARNING: not removing hydrogen atom without neighbors\n",
      "[14:31:36] WARNING: not removing hydrogen atom without neighbors\n",
      "[14:31:39] WARNING: not removing hydrogen atom without neighbors\n",
      "[14:31:39] WARNING: not removing hydrogen atom without neighbors\n",
      "[14:31:39] WARNING: not removing hydrogen atom without neighbors\n",
      "[14:31:39] WARNING: not removing hydrogen atom without neighbors\n",
      "[14:31:39] WARNING: not removing hydrogen atom without neighbors\n",
      "[14:31:39] WARNING: not removing hydrogen atom without neighbors\n",
      "[14:31:39] WARNING: not removing hydrogen atom without neighbors\n",
      "[14:31:39] WARNING: not removing hydrogen atom without neighbors\n",
      "[14:31:39] WARNING: not removing hydrogen atom without neighbors\n",
      "[14:31:39] WARNING: not removing hydrogen atom without neighbors\n",
      "[14:31:39] WARNING: not removing hydrogen atom without neighbors\n",
      "[14:31:39] WARNING: not removing hydrogen atom without neighbors\n",
      "[14:31:39] WARNING: not removing hydrogen atom without neighbors\n",
      "[14:31:39] WARNING: not removing hydrogen atom without neighbors\n",
      "[14:31:39] WARNING: not removing hydrogen atom without neighbors\n",
      "[14:31:39] WARNING: not removing hydrogen atom without neighbors\n",
      "[14:31:39] WARNING: not removing hydrogen atom without neighbors\n",
      "[14:31:39] WARNING: not removing hydrogen atom without neighbors\n",
      "[14:31:39] WARNING: not removing hydrogen atom without neighbors\n"
     ]
    }
   ],
   "source": [
    "discriptors =generate(df.SMILES)\n",
    "discriptors_test=generate(df_test.SMILES)"
   ]
  },
  {
   "cell_type": "markdown",
   "id": "b422aaff",
   "metadata": {
    "papermill": {
     "duration": 0.019343,
     "end_time": "2023-04-30T14:31:41.210039",
     "exception": false,
     "start_time": "2023-04-30T14:31:41.190696",
     "status": "completed"
    },
    "tags": []
   },
   "source": [
    "**RDKit molecular descriptors based features**\n",
    "* Use DeepChem featurizer with RDKitDescriptors\n",
    "* Generates 208 features with both use_fragment and ipc_avg\n",
    "* Here, we generate 123 different descriptors in total for evey molecules"
   ]
  },
  {
   "cell_type": "markdown",
   "id": "9f73b825",
   "metadata": {
    "papermill": {
     "duration": 0.019831,
     "end_time": "2023-04-30T14:31:41.249613",
     "exception": false,
     "start_time": "2023-04-30T14:31:41.229782",
     "status": "completed"
    },
    "tags": []
   },
   "source": [
    "**For SMILES**"
   ]
  },
  {
   "cell_type": "code",
   "execution_count": 18,
   "id": "f0501266",
   "metadata": {
    "execution": {
     "iopub.execute_input": "2023-04-30T14:31:41.291005Z",
     "iopub.status.busy": "2023-04-30T14:31:41.290322Z",
     "iopub.status.idle": "2023-04-30T14:31:41.295723Z",
     "shell.execute_reply": "2023-04-30T14:31:41.294768Z"
    },
    "papermill": {
     "duration": 0.028256,
     "end_time": "2023-04-30T14:31:41.297866",
     "exception": false,
     "start_time": "2023-04-30T14:31:41.269610",
     "status": "completed"
    },
    "tags": []
   },
   "outputs": [],
   "source": [
    "# # DeepChem RDKit descriptors\n",
    "# rdkit_featurizer = dc.feat.RDKitDescriptors(use_fragment=False, ipc_avg=False)\n",
    "# features = rdkit_featurizer(df.SMILES) # with one molecule\n",
    "# features_test = rdkit_featurizer(df_test.SMILES) # with one molecule"
   ]
  },
  {
   "cell_type": "code",
   "execution_count": 19,
   "id": "a730e94e",
   "metadata": {
    "execution": {
     "iopub.execute_input": "2023-04-30T14:31:41.339036Z",
     "iopub.status.busy": "2023-04-30T14:31:41.338709Z",
     "iopub.status.idle": "2023-04-30T14:31:41.343124Z",
     "shell.execute_reply": "2023-04-30T14:31:41.342115Z"
    },
    "papermill": {
     "duration": 0.027523,
     "end_time": "2023-04-30T14:31:41.345233",
     "exception": false,
     "start_time": "2023-04-30T14:31:41.317710",
     "status": "completed"
    },
    "tags": []
   },
   "outputs": [],
   "source": [
    "# features.shape"
   ]
  },
  {
   "cell_type": "code",
   "execution_count": 20,
   "id": "e7ae5880",
   "metadata": {
    "execution": {
     "iopub.execute_input": "2023-04-30T14:31:41.385953Z",
     "iopub.status.busy": "2023-04-30T14:31:41.385039Z",
     "iopub.status.idle": "2023-04-30T14:31:41.389806Z",
     "shell.execute_reply": "2023-04-30T14:31:41.388910Z"
    },
    "papermill": {
     "duration": 0.027335,
     "end_time": "2023-04-30T14:31:41.392001",
     "exception": false,
     "start_time": "2023-04-30T14:31:41.364666",
     "status": "completed"
    },
    "tags": []
   },
   "outputs": [],
   "source": [
    "# # Creating the feature dataset\n",
    "\n",
    "# column_names = rdkit_featurizer.descriptors\n",
    "\n",
    "# df0 = pd.DataFrame(data=features)\n",
    "# df0.columns = column_names\n",
    "\n",
    "# # adding molecule ids and solubility columns\n",
    "# # df0.insert(0, \"ID\", df.ID)\n",
    "# df0[\"Solubility\"] = df.Solubility"
   ]
  },
  {
   "cell_type": "code",
   "execution_count": 21,
   "id": "5e554c4b",
   "metadata": {
    "execution": {
     "iopub.execute_input": "2023-04-30T14:31:41.432833Z",
     "iopub.status.busy": "2023-04-30T14:31:41.431982Z",
     "iopub.status.idle": "2023-04-30T14:31:41.436691Z",
     "shell.execute_reply": "2023-04-30T14:31:41.435793Z"
    },
    "papermill": {
     "duration": 0.027154,
     "end_time": "2023-04-30T14:31:41.438775",
     "exception": false,
     "start_time": "2023-04-30T14:31:41.411621",
     "status": "completed"
    },
    "tags": []
   },
   "outputs": [],
   "source": [
    "# # Creating the feature dataset\n",
    "\n",
    "# column_names_test = rdkit_featurizer.descriptors\n",
    "\n",
    "# df1 = pd.DataFrame(data=features_test)\n",
    "# df1.columns = column_names\n",
    "\n",
    "# # adding molecule ids and solubility columns\n",
    "# # df1.insert(0, \"ID\", df_test.ID)"
   ]
  },
  {
   "cell_type": "code",
   "execution_count": 22,
   "id": "e6447d8d",
   "metadata": {
    "execution": {
     "iopub.execute_input": "2023-04-30T14:31:41.481190Z",
     "iopub.status.busy": "2023-04-30T14:31:41.480170Z",
     "iopub.status.idle": "2023-04-30T14:31:41.484874Z",
     "shell.execute_reply": "2023-04-30T14:31:41.483969Z"
    },
    "papermill": {
     "duration": 0.027354,
     "end_time": "2023-04-30T14:31:41.487067",
     "exception": false,
     "start_time": "2023-04-30T14:31:41.459713",
     "status": "completed"
    },
    "tags": []
   },
   "outputs": [],
   "source": [
    "# df0.isna().sum().sum()"
   ]
  },
  {
   "cell_type": "code",
   "execution_count": 23,
   "id": "2cd086f0",
   "metadata": {
    "execution": {
     "iopub.execute_input": "2023-04-30T14:31:41.527441Z",
     "iopub.status.busy": "2023-04-30T14:31:41.527175Z",
     "iopub.status.idle": "2023-04-30T14:31:41.531194Z",
     "shell.execute_reply": "2023-04-30T14:31:41.530163Z"
    },
    "papermill": {
     "duration": 0.026702,
     "end_time": "2023-04-30T14:31:41.533246",
     "exception": false,
     "start_time": "2023-04-30T14:31:41.506544",
     "status": "completed"
    },
    "tags": []
   },
   "outputs": [],
   "source": [
    "# df0.head()"
   ]
  },
  {
   "cell_type": "markdown",
   "id": "a9035f09",
   "metadata": {
    "papermill": {
     "duration": 0.019468,
     "end_time": "2023-04-30T14:31:41.572079",
     "exception": false,
     "start_time": "2023-04-30T14:31:41.552611",
     "status": "completed"
    },
    "tags": []
   },
   "source": [
    "**For InCHI**"
   ]
  },
  {
   "cell_type": "code",
   "execution_count": 24,
   "id": "ea54cf54",
   "metadata": {
    "execution": {
     "iopub.execute_input": "2023-04-30T14:31:41.616924Z",
     "iopub.status.busy": "2023-04-30T14:31:41.616607Z",
     "iopub.status.idle": "2023-04-30T14:31:41.621651Z",
     "shell.execute_reply": "2023-04-30T14:31:41.620570Z"
    },
    "papermill": {
     "duration": 0.027663,
     "end_time": "2023-04-30T14:31:41.623738",
     "exception": false,
     "start_time": "2023-04-30T14:31:41.596075",
     "status": "completed"
    },
    "tags": []
   },
   "outputs": [],
   "source": [
    "# # Define a function to convert an InChI string to an RDKit molecule object\n",
    "# def inchi_to_mol(inchi_str):\n",
    "#     return Chem.inchi.MolFromInchi(inchi_str)\n",
    "\n",
    "# # Apply the inchi_to_mol() function to the 'InChI' column in your DataFrame\n",
    "# df['Mol'] = df['InChI'].apply(inchi_to_mol)\n",
    "# df_test['Mol'] = df_test['InChI'].apply(inchi_to_mol)\n",
    "\n",
    "# # Define a function to generate InChI-based vectors from RDKit molecules\n",
    "# def generate_inchi_vector(mol, max_length=64):\n",
    "#     inchi_str = inchi.MolToInchi(mol)\n",
    "#     inchi_dict = rdMolDescriptors.GetHashedAtomPairFingerprint(mol, nBits=max_length, includeChirality=True)\n",
    "#     inchi_dict_nonzero = inchi_dict.GetNonzeroElements()\n",
    "#     inchi_vector = np.zeros(max_length)\n",
    "#     inchi_vector[list(inchi_dict_nonzero.keys())] = list(inchi_dict_nonzero.values())\n",
    "#     return inchi_vector\n",
    "\n",
    "# # Apply the generate_inchi_vector() function to the 'Mol' column in your DataFrame\n",
    "# df['InChI_Vector'] = df['Mol'].apply(generate_inchi_vector)\n",
    "# df_test['InChI_Vector'] = df_test['Mol'].apply(generate_inchi_vector)\n",
    "\n",
    "# # Convert the 'InChI_Vector' column to a numpy array for downstream analysis\n",
    "# InChI_features = np.array(df['InChI_Vector'].to_list())\n",
    "# InChI_features_test = np.array(df_test['InChI_Vector'].to_list())\n",
    "\n",
    "# df['InChI_Vector'] = InChI_features\n",
    "# df_test['InChI_Vector'] = InChI_features_test"
   ]
  },
  {
   "cell_type": "markdown",
   "id": "e2514415",
   "metadata": {
    "papermill": {
     "duration": 0.01968,
     "end_time": "2023-04-30T14:31:41.662980",
     "exception": false,
     "start_time": "2023-04-30T14:31:41.643300",
     "status": "completed"
    },
    "tags": []
   },
   "source": [
    "**gathering all good features**"
   ]
  },
  {
   "cell_type": "code",
   "execution_count": 25,
   "id": "cb614365",
   "metadata": {
    "execution": {
     "iopub.execute_input": "2023-04-30T14:31:41.703332Z",
     "iopub.status.busy": "2023-04-30T14:31:41.703025Z",
     "iopub.status.idle": "2023-04-30T14:31:41.710792Z",
     "shell.execute_reply": "2023-04-30T14:31:41.709882Z"
    },
    "papermill": {
     "duration": 0.030478,
     "end_time": "2023-04-30T14:31:41.712913",
     "exception": false,
     "start_time": "2023-04-30T14:31:41.682435",
     "status": "completed"
    },
    "tags": []
   },
   "outputs": [],
   "source": [
    "df['AromaticProportion']=desc_AromaticProportion\n",
    "df_test['AromaticProportion']=desc_AromaticProportion_test"
   ]
  },
  {
   "cell_type": "code",
   "execution_count": 26,
   "id": "a733f813",
   "metadata": {
    "execution": {
     "iopub.execute_input": "2023-04-30T14:31:41.754708Z",
     "iopub.status.busy": "2023-04-30T14:31:41.753826Z",
     "iopub.status.idle": "2023-04-30T14:31:41.760968Z",
     "shell.execute_reply": "2023-04-30T14:31:41.760039Z"
    },
    "papermill": {
     "duration": 0.030427,
     "end_time": "2023-04-30T14:31:41.762988",
     "exception": false,
     "start_time": "2023-04-30T14:31:41.732561",
     "status": "completed"
    },
    "tags": []
   },
   "outputs": [],
   "source": [
    "X= pd.concat([df['AromaticProportion'],discriptors], axis=1)\n",
    "X_test= pd.concat([df_test['AromaticProportion'],discriptors_test], axis=1)"
   ]
  },
  {
   "cell_type": "code",
   "execution_count": 27,
   "id": "9a279879",
   "metadata": {
    "execution": {
     "iopub.execute_input": "2023-04-30T14:31:41.803368Z",
     "iopub.status.busy": "2023-04-30T14:31:41.803065Z",
     "iopub.status.idle": "2023-04-30T14:31:41.808981Z",
     "shell.execute_reply": "2023-04-30T14:31:41.807991Z"
    },
    "papermill": {
     "duration": 0.028437,
     "end_time": "2023-04-30T14:31:41.811031",
     "exception": false,
     "start_time": "2023-04-30T14:31:41.782594",
     "status": "completed"
    },
    "tags": []
   },
   "outputs": [
    {
     "data": {
      "text/plain": [
       "Index(['AromaticProportion', 'MolLogP', 'MolWt', 'NumRotatableBonds'], dtype='object')"
      ]
     },
     "execution_count": 27,
     "metadata": {},
     "output_type": "execute_result"
    }
   ],
   "source": [
    "X.columns"
   ]
  },
  {
   "cell_type": "code",
   "execution_count": 28,
   "id": "4ddcf96e",
   "metadata": {
    "execution": {
     "iopub.execute_input": "2023-04-30T14:31:41.852420Z",
     "iopub.status.busy": "2023-04-30T14:31:41.851584Z",
     "iopub.status.idle": "2023-04-30T14:31:41.856281Z",
     "shell.execute_reply": "2023-04-30T14:31:41.855258Z"
    },
    "papermill": {
     "duration": 0.027697,
     "end_time": "2023-04-30T14:31:41.858352",
     "exception": false,
     "start_time": "2023-04-30T14:31:41.830655",
     "status": "completed"
    },
    "tags": []
   },
   "outputs": [],
   "source": [
    "# # check if 'MolLogP' column exists in the dataframe\n",
    "# if 'MolLogP' in df0.columns:\n",
    "#     print(\"Column 'MolLogP' exists in the DataFrame\")\n",
    "# else:\n",
    "#     print(\"Column 'MolLogP' does not exist in the DataFrame\")\n",
    "\n",
    "# # check if 'MolWt' column exists in the dataframe\n",
    "# if 'MolWt' in df0.columns:\n",
    "#     print(\"Column 'MolWt' exists in the DataFrame\")\n",
    "# else:\n",
    "#     print(\"Column 'MolWt' does not exist in the DataFrame\")\n",
    "\n",
    "# # check if 'NumRotatableBonds' column exists in the dataframe\n",
    "# if 'NumRotatableBonds' in df0.columns:\n",
    "#     print(\"Column 'NumRotatableBonds' exists in the DataFrame\")\n",
    "# else:\n",
    "#     print(\"Column 'NumRotatableBonds' does not exist in the DataFrame\")"
   ]
  },
  {
   "cell_type": "code",
   "execution_count": 29,
   "id": "d549bf8f",
   "metadata": {
    "execution": {
     "iopub.execute_input": "2023-04-30T14:31:41.899019Z",
     "iopub.status.busy": "2023-04-30T14:31:41.898717Z",
     "iopub.status.idle": "2023-04-30T14:31:41.902788Z",
     "shell.execute_reply": "2023-04-30T14:31:41.901746Z"
    },
    "papermill": {
     "duration": 0.026882,
     "end_time": "2023-04-30T14:31:41.904918",
     "exception": false,
     "start_time": "2023-04-30T14:31:41.878036",
     "status": "completed"
    },
    "tags": []
   },
   "outputs": [],
   "source": [
    "# df0=df0.drop(['MolLogP','MolWt','NumRotatableBonds'],axis=1)\n",
    "# df1=df1.drop(['MolLogP','MolWt','NumRotatableBonds'],axis=1)"
   ]
  },
  {
   "cell_type": "code",
   "execution_count": 30,
   "id": "e0cc94e8",
   "metadata": {
    "execution": {
     "iopub.execute_input": "2023-04-30T14:31:41.945140Z",
     "iopub.status.busy": "2023-04-30T14:31:41.944859Z",
     "iopub.status.idle": "2023-04-30T14:31:41.948828Z",
     "shell.execute_reply": "2023-04-30T14:31:41.947855Z"
    },
    "papermill": {
     "duration": 0.02627,
     "end_time": "2023-04-30T14:31:41.950833",
     "exception": false,
     "start_time": "2023-04-30T14:31:41.924563",
     "status": "completed"
    },
    "tags": []
   },
   "outputs": [],
   "source": [
    "# # X= pd.concat([X,df0], axis=1)\n",
    "# # X_test= pd.concat([X_test,df1], axis=1)\n",
    "# X= pd.concat([df['comp_id'],df0], axis=1)\n",
    "# X_test= pd.concat([df_test['comp_id'],df1], axis=1)"
   ]
  },
  {
   "cell_type": "code",
   "execution_count": 31,
   "id": "ad142e9e",
   "metadata": {
    "execution": {
     "iopub.execute_input": "2023-04-30T14:31:41.991816Z",
     "iopub.status.busy": "2023-04-30T14:31:41.991012Z",
     "iopub.status.idle": "2023-04-30T14:31:41.998287Z",
     "shell.execute_reply": "2023-04-30T14:31:41.997390Z"
    },
    "papermill": {
     "duration": 0.029619,
     "end_time": "2023-04-30T14:31:42.000346",
     "exception": false,
     "start_time": "2023-04-30T14:31:41.970727",
     "status": "completed"
    },
    "tags": []
   },
   "outputs": [],
   "source": [
    "X= pd.concat([df['comp_id'],X], axis=1)\n",
    "X_test= pd.concat([df_test['comp_id'],X_test], axis=1)"
   ]
  },
  {
   "cell_type": "code",
   "execution_count": 32,
   "id": "f6d58ef1",
   "metadata": {
    "execution": {
     "iopub.execute_input": "2023-04-30T14:31:42.041521Z",
     "iopub.status.busy": "2023-04-30T14:31:42.040589Z",
     "iopub.status.idle": "2023-04-30T14:31:42.045162Z",
     "shell.execute_reply": "2023-04-30T14:31:42.044229Z"
    },
    "papermill": {
     "duration": 0.026978,
     "end_time": "2023-04-30T14:31:42.047189",
     "exception": false,
     "start_time": "2023-04-30T14:31:42.020211",
     "status": "completed"
    },
    "tags": []
   },
   "outputs": [],
   "source": [
    "# X= pd.concat([df['AromaticProportion'],X], axis=1)\n",
    "# X_test= pd.concat([df_test['AromaticProportion'],X_test], axis=1)"
   ]
  },
  {
   "cell_type": "code",
   "execution_count": 33,
   "id": "287631dc",
   "metadata": {
    "execution": {
     "iopub.execute_input": "2023-04-30T14:31:42.087649Z",
     "iopub.status.busy": "2023-04-30T14:31:42.087079Z",
     "iopub.status.idle": "2023-04-30T14:31:42.099118Z",
     "shell.execute_reply": "2023-04-30T14:31:42.098153Z"
    },
    "papermill": {
     "duration": 0.034479,
     "end_time": "2023-04-30T14:31:42.101164",
     "exception": false,
     "start_time": "2023-04-30T14:31:42.066685",
     "status": "completed"
    },
    "tags": []
   },
   "outputs": [
    {
     "data": {
      "text/html": [
       "<div>\n",
       "<style scoped>\n",
       "    .dataframe tbody tr th:only-of-type {\n",
       "        vertical-align: middle;\n",
       "    }\n",
       "\n",
       "    .dataframe tbody tr th {\n",
       "        vertical-align: top;\n",
       "    }\n",
       "\n",
       "    .dataframe thead th {\n",
       "        text-align: right;\n",
       "    }\n",
       "</style>\n",
       "<table border=\"1\" class=\"dataframe\">\n",
       "  <thead>\n",
       "    <tr style=\"text-align: right;\">\n",
       "      <th></th>\n",
       "      <th>comp_id</th>\n",
       "      <th>AromaticProportion</th>\n",
       "      <th>MolLogP</th>\n",
       "      <th>MolWt</th>\n",
       "      <th>NumRotatableBonds</th>\n",
       "    </tr>\n",
       "  </thead>\n",
       "  <tbody>\n",
       "    <tr>\n",
       "      <th>0</th>\n",
       "      <td>1460</td>\n",
       "      <td>0.000000</td>\n",
       "      <td>4.16360</td>\n",
       "      <td>186.339</td>\n",
       "      <td>10.0</td>\n",
       "    </tr>\n",
       "    <tr>\n",
       "      <th>1</th>\n",
       "      <td>8962</td>\n",
       "      <td>0.428571</td>\n",
       "      <td>0.81580</td>\n",
       "      <td>197.146</td>\n",
       "      <td>2.0</td>\n",
       "    </tr>\n",
       "    <tr>\n",
       "      <th>2</th>\n",
       "      <td>4663</td>\n",
       "      <td>0.000000</td>\n",
       "      <td>1.43290</td>\n",
       "      <td>88.150</td>\n",
       "      <td>3.0</td>\n",
       "    </tr>\n",
       "    <tr>\n",
       "      <th>3</th>\n",
       "      <td>3846</td>\n",
       "      <td>0.800000</td>\n",
       "      <td>3.34208</td>\n",
       "      <td>193.249</td>\n",
       "      <td>2.0</td>\n",
       "    </tr>\n",
       "    <tr>\n",
       "      <th>4</th>\n",
       "      <td>4455</td>\n",
       "      <td>0.000000</td>\n",
       "      <td>1.20220</td>\n",
       "      <td>153.225</td>\n",
       "      <td>0.0</td>\n",
       "    </tr>\n",
       "  </tbody>\n",
       "</table>\n",
       "</div>"
      ],
      "text/plain": [
       "   comp_id  AromaticProportion  MolLogP    MolWt  NumRotatableBonds\n",
       "0     1460            0.000000  4.16360  186.339               10.0\n",
       "1     8962            0.428571  0.81580  197.146                2.0\n",
       "2     4663            0.000000  1.43290   88.150                3.0\n",
       "3     3846            0.800000  3.34208  193.249                2.0\n",
       "4     4455            0.000000  1.20220  153.225                0.0"
      ]
     },
     "execution_count": 33,
     "metadata": {},
     "output_type": "execute_result"
    }
   ],
   "source": [
    "X.head()"
   ]
  },
  {
   "cell_type": "code",
   "execution_count": 34,
   "id": "c7795027",
   "metadata": {
    "execution": {
     "iopub.execute_input": "2023-04-30T14:31:42.143319Z",
     "iopub.status.busy": "2023-04-30T14:31:42.142384Z",
     "iopub.status.idle": "2023-04-30T14:31:42.150708Z",
     "shell.execute_reply": "2023-04-30T14:31:42.149632Z"
    },
    "papermill": {
     "duration": 0.031219,
     "end_time": "2023-04-30T14:31:42.152798",
     "exception": false,
     "start_time": "2023-04-30T14:31:42.121579",
     "status": "completed"
    },
    "tags": []
   },
   "outputs": [
    {
     "data": {
      "text/plain": [
       "0"
      ]
     },
     "execution_count": 34,
     "metadata": {},
     "output_type": "execute_result"
    }
   ],
   "source": [
    "X.isna().sum().sum()"
   ]
  },
  {
   "cell_type": "code",
   "execution_count": 35,
   "id": "7c815563",
   "metadata": {
    "execution": {
     "iopub.execute_input": "2023-04-30T14:31:42.194692Z",
     "iopub.status.busy": "2023-04-30T14:31:42.193726Z",
     "iopub.status.idle": "2023-04-30T14:31:42.200021Z",
     "shell.execute_reply": "2023-04-30T14:31:42.199048Z"
    },
    "papermill": {
     "duration": 0.02916,
     "end_time": "2023-04-30T14:31:42.202066",
     "exception": false,
     "start_time": "2023-04-30T14:31:42.172906",
     "status": "completed"
    },
    "tags": []
   },
   "outputs": [
    {
     "name": "stdout",
     "output_type": "stream",
     "text": [
      "set()\n"
     ]
    }
   ],
   "source": [
    "missing_columns = set(X.columns) - set(X_test.columns)\n",
    "print(missing_columns)"
   ]
  },
  {
   "cell_type": "code",
   "execution_count": 36,
   "id": "07a998fb",
   "metadata": {
    "execution": {
     "iopub.execute_input": "2023-04-30T14:31:42.243550Z",
     "iopub.status.busy": "2023-04-30T14:31:42.242645Z",
     "iopub.status.idle": "2023-04-30T14:31:42.247398Z",
     "shell.execute_reply": "2023-04-30T14:31:42.246486Z"
    },
    "papermill": {
     "duration": 0.027744,
     "end_time": "2023-04-30T14:31:42.249512",
     "exception": false,
     "start_time": "2023-04-30T14:31:42.221768",
     "status": "completed"
    },
    "tags": []
   },
   "outputs": [],
   "source": [
    "# X = X.drop(columns=[\"Solubility\"])\n",
    "\n",
    "y=df.Solubility"
   ]
  },
  {
   "cell_type": "code",
   "execution_count": 37,
   "id": "0f74e86b",
   "metadata": {
    "execution": {
     "iopub.execute_input": "2023-04-30T14:31:42.291540Z",
     "iopub.status.busy": "2023-04-30T14:31:42.290690Z",
     "iopub.status.idle": "2023-04-30T14:31:42.299181Z",
     "shell.execute_reply": "2023-04-30T14:31:42.298247Z"
    },
    "papermill": {
     "duration": 0.031904,
     "end_time": "2023-04-30T14:31:42.301423",
     "exception": false,
     "start_time": "2023-04-30T14:31:42.269519",
     "status": "completed"
    },
    "tags": []
   },
   "outputs": [],
   "source": [
    "# drop columns with null values in X\n",
    "X = X.dropna(axis=1)\n",
    "\n",
    "# drop the same columns in X_test\n",
    "X_test = X_test[X.columns]"
   ]
  },
  {
   "cell_type": "code",
   "execution_count": 38,
   "id": "b94fc07a",
   "metadata": {
    "execution": {
     "iopub.execute_input": "2023-04-30T14:31:42.343457Z",
     "iopub.status.busy": "2023-04-30T14:31:42.343185Z",
     "iopub.status.idle": "2023-04-30T14:31:42.351577Z",
     "shell.execute_reply": "2023-04-30T14:31:42.350426Z"
    },
    "papermill": {
     "duration": 0.031154,
     "end_time": "2023-04-30T14:31:42.353675",
     "exception": false,
     "start_time": "2023-04-30T14:31:42.322521",
     "status": "completed"
    },
    "tags": []
   },
   "outputs": [
    {
     "data": {
      "text/plain": [
       "0"
      ]
     },
     "execution_count": 38,
     "metadata": {},
     "output_type": "execute_result"
    }
   ],
   "source": [
    "X.isna().sum().sum()"
   ]
  },
  {
   "cell_type": "code",
   "execution_count": 39,
   "id": "6143e35d",
   "metadata": {
    "execution": {
     "iopub.execute_input": "2023-04-30T14:31:42.395920Z",
     "iopub.status.busy": "2023-04-30T14:31:42.395082Z",
     "iopub.status.idle": "2023-04-30T14:31:42.403267Z",
     "shell.execute_reply": "2023-04-30T14:31:42.402158Z"
    },
    "papermill": {
     "duration": 0.030878,
     "end_time": "2023-04-30T14:31:42.405351",
     "exception": false,
     "start_time": "2023-04-30T14:31:42.374473",
     "status": "completed"
    },
    "tags": []
   },
   "outputs": [
    {
     "data": {
      "text/plain": [
       "0"
      ]
     },
     "execution_count": 39,
     "metadata": {},
     "output_type": "execute_result"
    }
   ],
   "source": [
    "np.isinf(X).sum().sum()"
   ]
  },
  {
   "cell_type": "code",
   "execution_count": 40,
   "id": "611fc1e5",
   "metadata": {
    "execution": {
     "iopub.execute_input": "2023-04-30T14:31:42.447628Z",
     "iopub.status.busy": "2023-04-30T14:31:42.446785Z",
     "iopub.status.idle": "2023-04-30T14:31:42.453051Z",
     "shell.execute_reply": "2023-04-30T14:31:42.451955Z"
    },
    "papermill": {
     "duration": 0.029488,
     "end_time": "2023-04-30T14:31:42.455147",
     "exception": false,
     "start_time": "2023-04-30T14:31:42.425659",
     "status": "completed"
    },
    "tags": []
   },
   "outputs": [
    {
     "data": {
      "text/plain": [
       "(6987, 5)"
      ]
     },
     "execution_count": 40,
     "metadata": {},
     "output_type": "execute_result"
    }
   ],
   "source": [
    "X.shape"
   ]
  },
  {
   "cell_type": "code",
   "execution_count": 41,
   "id": "e3931d52",
   "metadata": {
    "execution": {
     "iopub.execute_input": "2023-04-30T14:31:42.497129Z",
     "iopub.status.busy": "2023-04-30T14:31:42.496232Z",
     "iopub.status.idle": "2023-04-30T14:31:42.502761Z",
     "shell.execute_reply": "2023-04-30T14:31:42.501695Z"
    },
    "papermill": {
     "duration": 0.029505,
     "end_time": "2023-04-30T14:31:42.504825",
     "exception": false,
     "start_time": "2023-04-30T14:31:42.475320",
     "status": "completed"
    },
    "tags": []
   },
   "outputs": [
    {
     "data": {
      "text/plain": [
       "(2995, 5)"
      ]
     },
     "execution_count": 41,
     "metadata": {},
     "output_type": "execute_result"
    }
   ],
   "source": [
    "X_test.shape"
   ]
  },
  {
   "cell_type": "code",
   "execution_count": 42,
   "id": "eb41cb96",
   "metadata": {
    "execution": {
     "iopub.execute_input": "2023-04-30T14:31:42.546630Z",
     "iopub.status.busy": "2023-04-30T14:31:42.546328Z",
     "iopub.status.idle": "2023-04-30T14:31:42.550442Z",
     "shell.execute_reply": "2023-04-30T14:31:42.549439Z"
    },
    "papermill": {
     "duration": 0.027698,
     "end_time": "2023-04-30T14:31:42.552744",
     "exception": false,
     "start_time": "2023-04-30T14:31:42.525046",
     "status": "completed"
    },
    "tags": []
   },
   "outputs": [],
   "source": [
    "comp_id=df_test.comp_id"
   ]
  },
  {
   "cell_type": "code",
   "execution_count": 43,
   "id": "ffd7be97",
   "metadata": {
    "execution": {
     "iopub.execute_input": "2023-04-30T14:31:42.599261Z",
     "iopub.status.busy": "2023-04-30T14:31:42.598594Z",
     "iopub.status.idle": "2023-04-30T14:31:42.605014Z",
     "shell.execute_reply": "2023-04-30T14:31:42.603579Z"
    },
    "papermill": {
     "duration": 0.036516,
     "end_time": "2023-04-30T14:31:42.609364",
     "exception": false,
     "start_time": "2023-04-30T14:31:42.572848",
     "status": "completed"
    },
    "tags": []
   },
   "outputs": [],
   "source": [
    "# # Calculate the percentage of zeros in each column\n",
    "# zero_percentages = (X == 0).sum() / len(df)\n",
    "\n",
    "# # Iterate through each column to check if the zero percentage is more than 50%\n",
    "# for column in zero_percentages.index:\n",
    "#     if zero_percentages[column] > 0.5:\n",
    "#         # If the zero percentage is more than 50%, drop the column\n",
    "#         X = X.drop(column, axis=1)\n",
    "#         X_test=X_test.drop(column, axis=1)\n",
    "#         print(\"Dropped column:\", column)\n"
   ]
  },
  {
   "cell_type": "code",
   "execution_count": 44,
   "id": "697769e3",
   "metadata": {
    "execution": {
     "iopub.execute_input": "2023-04-30T14:31:42.695164Z",
     "iopub.status.busy": "2023-04-30T14:31:42.694512Z",
     "iopub.status.idle": "2023-04-30T14:31:42.700660Z",
     "shell.execute_reply": "2023-04-30T14:31:42.699420Z"
    },
    "papermill": {
     "duration": 0.061717,
     "end_time": "2023-04-30T14:31:42.706640",
     "exception": false,
     "start_time": "2023-04-30T14:31:42.644923",
     "status": "completed"
    },
    "tags": []
   },
   "outputs": [],
   "source": [
    "# X_test.shape"
   ]
  },
  {
   "cell_type": "code",
   "execution_count": 45,
   "id": "32c93ac8",
   "metadata": {
    "execution": {
     "iopub.execute_input": "2023-04-30T14:31:42.780997Z",
     "iopub.status.busy": "2023-04-30T14:31:42.780696Z",
     "iopub.status.idle": "2023-04-30T14:31:42.784667Z",
     "shell.execute_reply": "2023-04-30T14:31:42.783653Z"
    },
    "papermill": {
     "duration": 0.046636,
     "end_time": "2023-04-30T14:31:42.786779",
     "exception": false,
     "start_time": "2023-04-30T14:31:42.740143",
     "status": "completed"
    },
    "tags": []
   },
   "outputs": [],
   "source": [
    "# X.shape"
   ]
  },
  {
   "cell_type": "code",
   "execution_count": 46,
   "id": "bedfc600",
   "metadata": {
    "execution": {
     "iopub.execute_input": "2023-04-30T14:31:42.828762Z",
     "iopub.status.busy": "2023-04-30T14:31:42.827929Z",
     "iopub.status.idle": "2023-04-30T14:31:42.832118Z",
     "shell.execute_reply": "2023-04-30T14:31:42.831127Z"
    },
    "papermill": {
     "duration": 0.027376,
     "end_time": "2023-04-30T14:31:42.834186",
     "exception": false,
     "start_time": "2023-04-30T14:31:42.806810",
     "status": "completed"
    },
    "tags": []
   },
   "outputs": [],
   "source": [
    "# for col in X.columns :\n",
    "#     print(col)"
   ]
  },
  {
   "cell_type": "markdown",
   "id": "0fbd3476",
   "metadata": {
    "papermill": {
     "duration": 0.020438,
     "end_time": "2023-04-30T14:31:42.874564",
     "exception": false,
     "start_time": "2023-04-30T14:31:42.854126",
     "status": "completed"
    },
    "tags": []
   },
   "source": [
    "### **The Quality-Oriented Data Selection**"
   ]
  },
  {
   "cell_type": "code",
   "execution_count": 47,
   "id": "595bfe91",
   "metadata": {
    "execution": {
     "iopub.execute_input": "2023-04-30T14:31:42.916369Z",
     "iopub.status.busy": "2023-04-30T14:31:42.915523Z",
     "iopub.status.idle": "2023-04-30T14:31:42.920046Z",
     "shell.execute_reply": "2023-04-30T14:31:42.919161Z"
    },
    "papermill": {
     "duration": 0.027549,
     "end_time": "2023-04-30T14:31:42.922084",
     "exception": false,
     "start_time": "2023-04-30T14:31:42.894535",
     "status": "completed"
    },
    "tags": []
   },
   "outputs": [],
   "source": [
    "# # 1- Split the dataset into training and validation sets.\n",
    "# X_train, X_val, y_train, y_val = train_test_split(X, y, test_size=0.2, random_state=42)\n",
    "# train_data = Dataset(X_train, label=y_train)\n",
    "# val_data = Dataset(X_val, label=y_val)"
   ]
  },
  {
   "cell_type": "code",
   "execution_count": 48,
   "id": "18fd0458",
   "metadata": {
    "execution": {
     "iopub.execute_input": "2023-04-30T14:31:42.963466Z",
     "iopub.status.busy": "2023-04-30T14:31:42.963202Z",
     "iopub.status.idle": "2023-04-30T14:31:42.967507Z",
     "shell.execute_reply": "2023-04-30T14:31:42.966447Z"
    },
    "papermill": {
     "duration": 0.027584,
     "end_time": "2023-04-30T14:31:42.969637",
     "exception": false,
     "start_time": "2023-04-30T14:31:42.942053",
     "status": "completed"
    },
    "tags": []
   },
   "outputs": [],
   "source": [
    "# # 2- Train a machine learning model on the training set using all available data.\n",
    "# params = {\n",
    "#             \"objective\": \"regression\",\n",
    "#             \"is_unbalance\": \"true\",\n",
    "#             \"boosting_type\": \"dart\",\n",
    "#             \"bagging_ratio\": 0.6,\n",
    "#             \"feature_fraction\": 0.6,\n",
    "#             \"metric\": [\"rmse\"],\n",
    "# }\n",
    "# # training a LightGBM model\n",
    "# model = lgb.train(params=params,\n",
    "#                  train_set=train_data,\n",
    "#                  valid_sets=[val_data, train_data],\n",
    "#                   num_boost_round=1500,\n",
    "#                   verbose_eval=100\n",
    "#                  )\n"
   ]
  },
  {
   "cell_type": "code",
   "execution_count": 49,
   "id": "feabd95d",
   "metadata": {
    "execution": {
     "iopub.execute_input": "2023-04-30T14:31:43.011943Z",
     "iopub.status.busy": "2023-04-30T14:31:43.010501Z",
     "iopub.status.idle": "2023-04-30T14:31:43.015112Z",
     "shell.execute_reply": "2023-04-30T14:31:43.014208Z"
    },
    "papermill": {
     "duration": 0.02756,
     "end_time": "2023-04-30T14:31:43.017145",
     "exception": false,
     "start_time": "2023-04-30T14:31:42.989585",
     "status": "completed"
    },
    "tags": []
   },
   "outputs": [],
   "source": [
    "# # 3- Evaluate the performance of the model on the validation set.\n",
    "# y_pred=model.predict(X_val)\n",
    "# print(\"\\nThe RMSE :\",mean_squared_error(y_val, y_pred,squared=False))"
   ]
  },
  {
   "cell_type": "code",
   "execution_count": 50,
   "id": "44ef73a0",
   "metadata": {
    "execution": {
     "iopub.execute_input": "2023-04-30T14:31:43.058543Z",
     "iopub.status.busy": "2023-04-30T14:31:43.058273Z",
     "iopub.status.idle": "2023-04-30T14:31:43.062419Z",
     "shell.execute_reply": "2023-04-30T14:31:43.061398Z"
    },
    "papermill": {
     "duration": 0.027462,
     "end_time": "2023-04-30T14:31:43.064580",
     "exception": false,
     "start_time": "2023-04-30T14:31:43.037118",
     "status": "completed"
    },
    "tags": []
   },
   "outputs": [],
   "source": [
    "# # 4- Calculate a quality score for each data point based on its prediction error and uncertainty.\n",
    "# errors = y_val - y_pred\n",
    "# std = np.std(errors)\n",
    "# scores = np.abs(errors) / std"
   ]
  },
  {
   "cell_type": "code",
   "execution_count": 51,
   "id": "ea7558da",
   "metadata": {
    "execution": {
     "iopub.execute_input": "2023-04-30T14:31:43.105849Z",
     "iopub.status.busy": "2023-04-30T14:31:43.105579Z",
     "iopub.status.idle": "2023-04-30T14:31:43.109239Z",
     "shell.execute_reply": "2023-04-30T14:31:43.108456Z"
    },
    "papermill": {
     "duration": 0.026716,
     "end_time": "2023-04-30T14:31:43.111363",
     "exception": false,
     "start_time": "2023-04-30T14:31:43.084647",
     "status": "completed"
    },
    "tags": []
   },
   "outputs": [],
   "source": [
    "# # 5- Select a subset of high-quality data points based on their quality scores.\n",
    "# num_points = int(len(X) * 0.5)  # increase the number of high-quality data points to 50%\n",
    "# indices = np.argsort(scores)[-num_points:]\n",
    "# X_high_quality = X.reset_index(drop=True).iloc[indices]\n",
    "# y_high_quality = y.reset_index(drop=True).iloc[indices]"
   ]
  },
  {
   "cell_type": "code",
   "execution_count": 52,
   "id": "abb9bc93",
   "metadata": {
    "execution": {
     "iopub.execute_input": "2023-04-30T14:31:43.152792Z",
     "iopub.status.busy": "2023-04-30T14:31:43.152523Z",
     "iopub.status.idle": "2023-04-30T14:31:43.156451Z",
     "shell.execute_reply": "2023-04-30T14:31:43.155445Z"
    },
    "papermill": {
     "duration": 0.026891,
     "end_time": "2023-04-30T14:31:43.158465",
     "exception": false,
     "start_time": "2023-04-30T14:31:43.131574",
     "status": "completed"
    },
    "tags": []
   },
   "outputs": [],
   "source": [
    "# X_high_quality.shape"
   ]
  },
  {
   "cell_type": "code",
   "execution_count": 53,
   "id": "c85ce493",
   "metadata": {
    "execution": {
     "iopub.execute_input": "2023-04-30T14:31:43.200217Z",
     "iopub.status.busy": "2023-04-30T14:31:43.199919Z",
     "iopub.status.idle": "2023-04-30T14:31:43.205608Z",
     "shell.execute_reply": "2023-04-30T14:31:43.204599Z"
    },
    "papermill": {
     "duration": 0.029101,
     "end_time": "2023-04-30T14:31:43.207669",
     "exception": false,
     "start_time": "2023-04-30T14:31:43.178568",
     "status": "completed"
    },
    "tags": []
   },
   "outputs": [],
   "source": [
    "# # 6- Train a new machine learning model using only the selected high-quality data points.\n",
    "# X_train, X_val, y_train, y_val = train_test_split(X_high_quality, y_high_quality, test_size=0.2, random_state=42)\n",
    "\n",
    "# # Define the hyperparameter search space\n",
    "# space = {\n",
    "#     'num_leaves': hp.quniform('num_leaves', 10, 100, 1),\n",
    "#     'learning_rate': hp.loguniform('learning_rate', -5, 0),\n",
    "#     'min_child_samples': hp.quniform('min_child_samples', 5, 50, 1),\n",
    "#     'subsample': hp.uniform('subsample', 0.1, 1),\n",
    "#     'colsample_bytree': hp.uniform('colsample_bytree', 0.1, 1),\n",
    "#     'reg_alpha': hp.loguniform('reg_alpha', -10, 1),\n",
    "#     'reg_lambda': hp.loguniform('reg_lambda', -10, 1)\n",
    "# }\n",
    "\n",
    "# # Define the objective function to minimize (in this case, the root mean squared error)\n",
    "# def objective(params):\n",
    "#     params = {\n",
    "#         'num_leaves': int(params['num_leaves']),\n",
    "#         'learning_rate': params['learning_rate'],\n",
    "#         'min_child_samples': int(params['min_child_samples']),\n",
    "#         'subsample': params['subsample'],\n",
    "#         'metric': 'rmse',\n",
    "#         'colsample_bytree': params['colsample_bytree'],\n",
    "#         'reg_alpha': params['reg_alpha'],\n",
    "#         'reg_lambda': params['reg_lambda']\n",
    "#     }\n",
    "    \n",
    "#     model = lgb.LGBMRegressor(**params, n_estimators=1000, n_jobs=-1)\n",
    "#     model.fit(X_train, y_train, eval_set=[(X_val, y_val)], early_stopping_rounds=100, verbose=False)\n",
    "#     y_pred = model.predict(X_val)\n",
    "#     rmse = mean_squared_error(y_val, y_pred, squared=False)\n",
    "#     return rmse\n",
    "\n",
    "# # Run the hyperparameter search using Tree-structured Parzen Estimator (TPE)\n",
    "# trials = Trials()\n",
    "# best = fmin(fn=objective, space=space, algo=tpe.suggest, max_evals=100, trials=trials, verbose=1)\n",
    "\n",
    "# # Print the hyperparameters with the best loss\n",
    "# print(\"Best hyperparameters:\", best)\n",
    "\n",
    "# # Train the final model using the best hyperparameters\n",
    "# best_params = {\n",
    "#     'num_leaves': int(best['num_leaves']),\n",
    "#     'learning_rate': best['learning_rate'],\n",
    "#     'min_child_samples': int(best['min_child_samples']),\n",
    "#     'subsample': best['subsample'],\n",
    "#     'colsample_bytree': best['colsample_bytree'],\n",
    "#     'reg_alpha': best['reg_alpha'],\n",
    "#     'reg_lambda': best['reg_lambda']\n",
    "# }\n",
    "\n",
    "# model = lgb.LGBMRegressor(**best_params, n_estimators=1000, n_jobs=-1)\n",
    "# model.fit(X_train, y_train, eval_set=[(X_val, y_val)], early_stopping_rounds=150, verbose=False)\n",
    "\n",
    "# # Evaluate the final model on the validation set\n",
    "# y_pred = model.predict(X_val)\n",
    "# rmse = mean_squared_error(y_val, y_pred, squared=False)\n",
    "# print(\"Final root mean squared error:\", rmse)\n"
   ]
  },
  {
   "cell_type": "markdown",
   "id": "f1de73f8",
   "metadata": {
    "papermill": {
     "duration": 0.020068,
     "end_time": "2023-04-30T14:31:43.248025",
     "exception": false,
     "start_time": "2023-04-30T14:31:43.227957",
     "status": "completed"
    },
    "tags": []
   },
   "source": [
    "#### **Scaling the Data**"
   ]
  },
  {
   "cell_type": "code",
   "execution_count": 54,
   "id": "eab31305",
   "metadata": {
    "execution": {
     "iopub.execute_input": "2023-04-30T14:31:43.289873Z",
     "iopub.status.busy": "2023-04-30T14:31:43.289593Z",
     "iopub.status.idle": "2023-04-30T14:31:43.294123Z",
     "shell.execute_reply": "2023-04-30T14:31:43.293103Z"
    },
    "papermill": {
     "duration": 0.028134,
     "end_time": "2023-04-30T14:31:43.296267",
     "exception": false,
     "start_time": "2023-04-30T14:31:43.268133",
     "status": "completed"
    },
    "tags": []
   },
   "outputs": [],
   "source": [
    "# # first, make the log transformation\n",
    "# X_log = np.log(X + 1e-10)\n",
    "# X_test_log = np.log(X_test + 1e-10)\n",
    "\n",
    "# # Apply RobustScaler to all the data\n",
    "# scaler = RobustScaler()\n",
    "# X_scaled = scaler.fit_transform(X)\n",
    "# X_test_scaled = scaler.transform(X_test)\n",
    "\n",
    "# # Apply StandardScaler to all the data\n",
    "# scaler = StandardScaler()\n",
    "# X_scaled = scaler.fit_transform(X)\n",
    "# X_test_scaled = scaler.transform(X_test)\n",
    "\n",
    "# # Apply MinMaxScaler to all the data\n",
    "# scaler = MinMaxScaler()\n",
    "# X_scaled = scaler.fit_transform(X)\n",
    "# X_test_scaled = scaler.transform(X_test)"
   ]
  },
  {
   "cell_type": "code",
   "execution_count": 55,
   "id": "7ee137d8",
   "metadata": {
    "execution": {
     "iopub.execute_input": "2023-04-30T14:31:43.337685Z",
     "iopub.status.busy": "2023-04-30T14:31:43.337411Z",
     "iopub.status.idle": "2023-04-30T14:31:43.340721Z",
     "shell.execute_reply": "2023-04-30T14:31:43.339931Z"
    },
    "papermill": {
     "duration": 0.026395,
     "end_time": "2023-04-30T14:31:43.342808",
     "exception": false,
     "start_time": "2023-04-30T14:31:43.316413",
     "status": "completed"
    },
    "tags": []
   },
   "outputs": [],
   "source": [
    "# Stop Here to Train the models..........."
   ]
  },
  {
   "cell_type": "markdown",
   "id": "93aadb32",
   "metadata": {
    "papermill": {
     "duration": 0.019906,
     "end_time": "2023-04-30T14:31:43.382790",
     "exception": false,
     "start_time": "2023-04-30T14:31:43.362884",
     "status": "completed"
    },
    "tags": []
   },
   "source": [
    "## **Modeling**"
   ]
  },
  {
   "cell_type": "markdown",
   "id": "ef8b7372",
   "metadata": {
    "papermill": {
     "duration": 0.019901,
     "end_time": "2023-04-30T14:31:43.422971",
     "exception": false,
     "start_time": "2023-04-30T14:31:43.403070",
     "status": "completed"
    },
    "tags": []
   },
   "source": [
    "#### **PCA**"
   ]
  },
  {
   "cell_type": "code",
   "execution_count": 56,
   "id": "4dbf0188",
   "metadata": {
    "execution": {
     "iopub.execute_input": "2023-04-30T14:31:43.464260Z",
     "iopub.status.busy": "2023-04-30T14:31:43.463950Z",
     "iopub.status.idle": "2023-04-30T14:31:43.467617Z",
     "shell.execute_reply": "2023-04-30T14:31:43.466816Z"
    },
    "papermill": {
     "duration": 0.026754,
     "end_time": "2023-04-30T14:31:43.469702",
     "exception": false,
     "start_time": "2023-04-30T14:31:43.442948",
     "status": "completed"
    },
    "tags": []
   },
   "outputs": [],
   "source": [
    "# # Create a StandardScaler object and fit_transform the data\n",
    "# scaler = StandardScaler()\n",
    "# X_scaled = scaler.fit_transform(X)\n",
    "# X_test_scaled = scaler.transform(X_test)\n",
    "\n",
    "# # Create a PCA object with 2 components and fit_transform the scaled data\n",
    "# pca = PCA(n_components=50)\n",
    "# X_pca = pca.fit_transform(X_scaled)\n",
    "# X_test_pca = pca.transform(X_test_scaled)"
   ]
  },
  {
   "cell_type": "code",
   "execution_count": 57,
   "id": "3ee95613",
   "metadata": {
    "execution": {
     "iopub.execute_input": "2023-04-30T14:31:43.511193Z",
     "iopub.status.busy": "2023-04-30T14:31:43.510884Z",
     "iopub.status.idle": "2023-04-30T14:31:43.515032Z",
     "shell.execute_reply": "2023-04-30T14:31:43.513997Z"
    },
    "papermill": {
     "duration": 0.027261,
     "end_time": "2023-04-30T14:31:43.517147",
     "exception": false,
     "start_time": "2023-04-30T14:31:43.489886",
     "status": "completed"
    },
    "tags": []
   },
   "outputs": [],
   "source": [
    "# X_train, X_val, y_train, y_val = train_test_split(X_scaled, y, test_size=0.1, random_state=42)"
   ]
  },
  {
   "cell_type": "code",
   "execution_count": 58,
   "id": "63378b3c",
   "metadata": {
    "execution": {
     "iopub.execute_input": "2023-04-30T14:31:43.558526Z",
     "iopub.status.busy": "2023-04-30T14:31:43.558247Z",
     "iopub.status.idle": "2023-04-30T14:31:43.562275Z",
     "shell.execute_reply": "2023-04-30T14:31:43.561323Z"
    },
    "papermill": {
     "duration": 0.027056,
     "end_time": "2023-04-30T14:31:43.564311",
     "exception": false,
     "start_time": "2023-04-30T14:31:43.537255",
     "status": "completed"
    },
    "tags": []
   },
   "outputs": [],
   "source": [
    "# X_pca.shape"
   ]
  },
  {
   "cell_type": "markdown",
   "id": "ec57d046",
   "metadata": {
    "papermill": {
     "duration": 0.020324,
     "end_time": "2023-04-30T14:31:43.604813",
     "exception": false,
     "start_time": "2023-04-30T14:31:43.584489",
     "status": "completed"
    },
    "tags": []
   },
   "source": [
    "### **Data split**"
   ]
  },
  {
   "cell_type": "code",
   "execution_count": 59,
   "id": "867abb49",
   "metadata": {
    "execution": {
     "iopub.execute_input": "2023-04-30T14:31:43.646605Z",
     "iopub.status.busy": "2023-04-30T14:31:43.646304Z",
     "iopub.status.idle": "2023-04-30T14:31:43.654974Z",
     "shell.execute_reply": "2023-04-30T14:31:43.654080Z"
    },
    "papermill": {
     "duration": 0.032187,
     "end_time": "2023-04-30T14:31:43.657152",
     "exception": false,
     "start_time": "2023-04-30T14:31:43.624965",
     "status": "completed"
    },
    "tags": []
   },
   "outputs": [],
   "source": [
    "# Split the dataset into training and validation sets\n",
    "X_train, X_val, y_train, y_val = train_test_split(X, y, test_size=0.01, random_state=42)"
   ]
  },
  {
   "cell_type": "markdown",
   "id": "5a3939f4",
   "metadata": {
    "papermill": {
     "duration": 0.020716,
     "end_time": "2023-04-30T14:31:43.698250",
     "exception": false,
     "start_time": "2023-04-30T14:31:43.677534",
     "status": "completed"
    },
    "tags": []
   },
   "source": [
    "#### **Linear Regression Model**"
   ]
  },
  {
   "cell_type": "code",
   "execution_count": 60,
   "id": "1f0e8aaa",
   "metadata": {
    "execution": {
     "iopub.execute_input": "2023-04-30T14:31:43.767028Z",
     "iopub.status.busy": "2023-04-30T14:31:43.765777Z",
     "iopub.status.idle": "2023-04-30T14:31:43.773752Z",
     "shell.execute_reply": "2023-04-30T14:31:43.772176Z"
    },
    "papermill": {
     "duration": 0.057587,
     "end_time": "2023-04-30T14:31:43.782001",
     "exception": false,
     "start_time": "2023-04-30T14:31:43.724414",
     "status": "completed"
    },
    "tags": []
   },
   "outputs": [],
   "source": [
    "# # Create a linear regression model and fit it to the scaled training data\n",
    "# regressor = LinearRegression()\n",
    "# regressor.fit(X_train, y_train)\n",
    "\n",
    "# # Make predictions on the test set\n",
    "# y_pred = regressor.predict(X_val)\n",
    "\n",
    "# # Evaluate the model's performance\n",
    "# score = mean_squared_error(y_val, y_pred,squared=False)\n",
    "# print(f'The RMSE : {score}')"
   ]
  },
  {
   "cell_type": "markdown",
   "id": "87002670",
   "metadata": {
    "papermill": {
     "duration": 0.029832,
     "end_time": "2023-04-30T14:31:43.850915",
     "exception": false,
     "start_time": "2023-04-30T14:31:43.821083",
     "status": "completed"
    },
    "tags": []
   },
   "source": [
    "#### **LightGBM model**"
   ]
  },
  {
   "cell_type": "code",
   "execution_count": 61,
   "id": "e464e111",
   "metadata": {
    "execution": {
     "iopub.execute_input": "2023-04-30T14:31:43.912570Z",
     "iopub.status.busy": "2023-04-30T14:31:43.912083Z",
     "iopub.status.idle": "2023-04-30T14:32:58.996965Z",
     "shell.execute_reply": "2023-04-30T14:32:58.994489Z"
    },
    "papermill": {
     "duration": 75.118443,
     "end_time": "2023-04-30T14:32:58.999696",
     "exception": false,
     "start_time": "2023-04-30T14:31:43.881253",
     "status": "completed"
    },
    "tags": []
   },
   "outputs": [
    {
     "name": "stdout",
     "output_type": "stream",
     "text": [
      "100%|██████████| 100/100 [01:13<00:00,  1.37trial/s, best loss: 0.8756169500031734]\n",
      "Best hyperparameters: {'colsample_bytree': 0.9962150743079714, 'learning_rate': 0.0911831272211416, 'min_child_samples': 23.0, 'num_leaves': 93.0, 'reg_alpha': 0.0064780076942777655, 'reg_lambda': 0.11347419395068079, 'subsample': 0.14848207653717005}\n",
      "Final root mean squared error: 0.8756169500031734\n"
     ]
    }
   ],
   "source": [
    "# Define the hyperparameter search space\n",
    "space = {\n",
    "    'num_leaves': hp.quniform('num_leaves', 10, 100, 1),\n",
    "    'learning_rate': hp.loguniform('learning_rate', -5, 0),\n",
    "    'min_child_samples': hp.quniform('min_child_samples', 5, 50, 1),\n",
    "    'subsample': hp.uniform('subsample', 0.1, 1),\n",
    "    'colsample_bytree': hp.uniform('colsample_bytree', 0.1, 1),\n",
    "    'reg_alpha': hp.loguniform('reg_alpha', -10, 1),\n",
    "    'reg_lambda': hp.loguniform('reg_lambda', -10, 1)\n",
    "}\n",
    "\n",
    "# Define the objective function to minimize (in this case, the root mean squared error)\n",
    "def objective(params):\n",
    "    params = {\n",
    "        'num_leaves': int(params['num_leaves']),\n",
    "        'learning_rate': params['learning_rate'],\n",
    "        'min_child_samples': int(params['min_child_samples']),\n",
    "        'subsample': params['subsample'],\n",
    "        'metric': 'rmse',\n",
    "        'colsample_bytree': params['colsample_bytree'],\n",
    "        'reg_alpha': params['reg_alpha'],\n",
    "        'reg_lambda': params['reg_lambda']\n",
    "    }\n",
    "    \n",
    "    model = lgb.LGBMRegressor(**params, n_estimators=1000, n_jobs=-1)\n",
    "    model.fit(X_train, y_train, eval_set=[(X_val, y_val)], early_stopping_rounds=100, verbose=False)\n",
    "    y_pred = model.predict(X_val)\n",
    "    rmse = mean_squared_error(y_val, y_pred, squared=False)\n",
    "    return rmse\n",
    "\n",
    "# Run the hyperparameter search using Tree-structured Parzen Estimator (TPE)\n",
    "trials = Trials()\n",
    "best = fmin(fn=objective, space=space, algo=tpe.suggest, max_evals=100, trials=trials, verbose=1)\n",
    "\n",
    "# Print the hyperparameters with the best loss\n",
    "print(\"Best hyperparameters:\", best)\n",
    "\n",
    "# Train the final model using the best hyperparameters\n",
    "best_params = {\n",
    "    'num_leaves': int(best['num_leaves']),\n",
    "    'learning_rate': best['learning_rate'],\n",
    "    'min_child_samples': int(best['min_child_samples']),\n",
    "    'subsample': best['subsample'],\n",
    "    'colsample_bytree': best['colsample_bytree'],\n",
    "    'reg_alpha': best['reg_alpha'],\n",
    "    'reg_lambda': best['reg_lambda']\n",
    "}\n",
    "\n",
    "model = lgb.LGBMRegressor(**best_params, n_estimators=1000, n_jobs=-1)\n",
    "model.fit(X_train, y_train, eval_set=[(X_val, y_val)], early_stopping_rounds=150, verbose=False)\n",
    "\n",
    "# Evaluate the final model on the validation set\n",
    "y_pred = model.predict(X_val)\n",
    "rmse = mean_squared_error(y_val, y_pred, squared=False)\n",
    "print(\"Final root mean squared error:\", rmse)"
   ]
  },
  {
   "cell_type": "markdown",
   "id": "0feafcba",
   "metadata": {
    "papermill": {
     "duration": 0.027232,
     "end_time": "2023-04-30T14:32:59.057479",
     "exception": false,
     "start_time": "2023-04-30T14:32:59.030247",
     "status": "completed"
    },
    "tags": []
   },
   "source": [
    "#### **CatBoost**"
   ]
  },
  {
   "cell_type": "code",
   "execution_count": 62,
   "id": "a28f8e88",
   "metadata": {
    "execution": {
     "iopub.execute_input": "2023-04-30T14:32:59.114584Z",
     "iopub.status.busy": "2023-04-30T14:32:59.113866Z",
     "iopub.status.idle": "2023-04-30T14:32:59.120572Z",
     "shell.execute_reply": "2023-04-30T14:32:59.119825Z"
    },
    "papermill": {
     "duration": 0.037959,
     "end_time": "2023-04-30T14:32:59.122731",
     "exception": false,
     "start_time": "2023-04-30T14:32:59.084772",
     "status": "completed"
    },
    "tags": []
   },
   "outputs": [],
   "source": [
    "# from hyperopt import fmin, tpe, hp, Trials\n",
    "# from catboost import CatBoostRegressor\n",
    "\n",
    "# # Define the hyperparameter search space\n",
    "# space = {\n",
    "#     'iterations': hp.quniform('iterations', 100, 1000, 1),\n",
    "#     'learning_rate': hp.loguniform('learning_rate', -5, 0),\n",
    "#     'depth': hp.quniform('depth', 1, 10, 1),\n",
    "#     'l2_leaf_reg': hp.loguniform('l2_leaf_reg', -5, 2),\n",
    "#     'subsample': hp.uniform('subsample', 0.1, 1),\n",
    "#     'colsample_bylevel': hp.uniform('colsample_bylevel', 0.1, 1),\n",
    "#     'bagging_temperature': hp.loguniform('bagging_temperature', -5, 2)\n",
    "# }\n",
    "\n",
    "# # Define the objective function to minimize (in this case, the mean squared error)\n",
    "# def objective(params):\n",
    "#     model = CatBoostRegressor(\n",
    "#         iterations=int(params['iterations']),\n",
    "#         learning_rate=params['learning_rate'],\n",
    "#         depth=int(params['depth']),\n",
    "#         l2_leaf_reg=params['l2_leaf_reg'],\n",
    "#         subsample=params['subsample'],\n",
    "#         colsample_bylevel=params['colsample_bylevel'],\n",
    "#         bagging_temperature=params['bagging_temperature'],\n",
    "#         random_state=42,\n",
    "#         eval_metric='RMSE',\n",
    "#         verbose=False\n",
    "#     )\n",
    "    \n",
    "#     model.fit(\n",
    "#         X_train, y_train,\n",
    "#         eval_set=(X_val, y_val),\n",
    "#         early_stopping_rounds=100,\n",
    "#         verbose=False\n",
    "#     )\n",
    "    \n",
    "#     y_pred = model.predict(X_val)\n",
    "#     mse = mean_squared_error(y_val, y_pred)\n",
    "#     return mse\n",
    "\n",
    "# # Run the hyperparameter search using Tree-structured Parzen Estimator (TPE)\n",
    "# trials = Trials()\n",
    "# best = fmin(fn=objective, space=space, algo=tpe.suggest, max_evals=100, trials=trials, verbose=1)\n",
    "\n",
    "# # Print the hyperparameters with the best loss\n",
    "# print(\"Best hyperparameters:\", best)\n",
    "\n",
    "# # Train the final model using the best hyperparameters\n",
    "# best_params = {\n",
    "#     'iterations': int(best['iterations']),\n",
    "#     'learning_rate': best['learning_rate'],\n",
    "#     'depth': int(best['depth']),\n",
    "#     'l2_leaf_reg': best['l2_leaf_reg'],\n",
    "#     'subsample': best['subsample'],\n",
    "#     'colsample_bylevel': best['colsample_bylevel'],\n",
    "#     'bagging_temperature': best['bagging_temperature'],\n",
    "#     'random_state': 42,\n",
    "#     'eval_metric': 'RMSE',\n",
    "#     'verbose': False\n",
    "# }\n",
    "\n",
    "# model = CatBoostRegressor(**best_params)\n",
    "# model.fit(X_train, y_train, eval_set=(X_val, y_val), early_stopping_rounds=100, verbose=False)\n",
    "\n",
    "# # Evaluate the final model on the validation set\n",
    "# y_pred = model.predict(X_val)\n",
    "# rmse = mean_squared_error(y_val, y_pred, squared=False)\n",
    "# print(\"Final root mean squared error:\", rmse)\n"
   ]
  },
  {
   "cell_type": "markdown",
   "id": "b840f24d",
   "metadata": {
    "papermill": {
     "duration": 0.025867,
     "end_time": "2023-04-30T14:32:59.175291",
     "exception": false,
     "start_time": "2023-04-30T14:32:59.149424",
     "status": "completed"
    },
    "tags": []
   },
   "source": [
    "#### **XGBoost Model**"
   ]
  },
  {
   "cell_type": "code",
   "execution_count": 63,
   "id": "c4e5619a",
   "metadata": {
    "execution": {
     "iopub.execute_input": "2023-04-30T14:32:59.228900Z",
     "iopub.status.busy": "2023-04-30T14:32:59.228558Z",
     "iopub.status.idle": "2023-04-30T14:32:59.234842Z",
     "shell.execute_reply": "2023-04-30T14:32:59.233694Z"
    },
    "papermill": {
     "duration": 0.036341,
     "end_time": "2023-04-30T14:32:59.237576",
     "exception": false,
     "start_time": "2023-04-30T14:32:59.201235",
     "status": "completed"
    },
    "tags": []
   },
   "outputs": [],
   "source": [
    "# import xgboost as xgb\n",
    "# from hyperopt import fmin, tpe, hp, Trials\n",
    "# from sklearn.metrics import mean_squared_error\n",
    "\n",
    "# #Define the hyperparameter search space\n",
    "# space = {\n",
    "# 'max_depth': hp.choice('max_depth', range(1, 10)),\n",
    "# 'learning_rate': hp.loguniform('learning_rate', -5, 0),\n",
    "# 'subsample': hp.uniform('subsample', 0.1, 1),\n",
    "# 'colsample_bytree': hp.uniform('colsample_bytree', 0.1, 1),\n",
    "# 'gamma': hp.loguniform('gamma', -10, 1),\n",
    "# 'reg_alpha': hp.loguniform('reg_alpha', -10, 1),\n",
    "# 'reg_lambda': hp.loguniform('reg_lambda', -10, 1),\n",
    "# 'min_child_weight': hp.quniform('min_child_weight', 1, 10, 1),\n",
    "# 'objective': 'reg:squarederror'\n",
    "# }\n",
    "\n",
    "# #Define the objective function to minimize (in this case, the mean squared error)\n",
    "# def objective(params):\n",
    "#     params['max_depth'] = int(params['max_depth'])\n",
    "#     dtrain = xgb.DMatrix(X_train, label=y_train)\n",
    "#     dval = xgb.DMatrix(X_val, label=y_val)\n",
    "#     evallist = [(dval, 'eval')]\n",
    "#     num_round = 1000\n",
    "\n",
    "#     model = xgb.train(params, dtrain, num_round, evallist, early_stopping_rounds=100, verbose_eval=False)\n",
    "#     y_pred = model.predict(dval)\n",
    "#     mse = mean_squared_error(y_val, y_pred)\n",
    "#     return mse\n",
    "\n",
    "# #Run the hyperparameter search using Tree-structured Parzen Estimator (TPE)\n",
    "# trials = Trials()\n",
    "# best = fmin(fn=objective, space=space, algo=tpe.suggest, max_evals=100, trials=trials, verbose=1)\n",
    "\n",
    "# #Print the hyperparameters with the best loss\n",
    "# print(\"Best hyperparameters:\", best)\n",
    "\n",
    "# #Train the final model using the best hyperparameters\n",
    "# best_params = {\n",
    "# 'max_depth': int(best['max_depth']),\n",
    "# 'learning_rate': best['learning_rate'],\n",
    "# 'subsample': best['subsample'],\n",
    "# 'colsample_bytree': best['colsample_bytree'],\n",
    "# 'gamma': best['gamma'],\n",
    "# 'reg_alpha': best['reg_alpha'],\n",
    "# 'reg_lambda': best['reg_lambda'],\n",
    "# 'min_child_weight': int(best['min_child_weight']),\n",
    "# 'objective': 'reg:squarederror'\n",
    "# }\n",
    "\n",
    "# dtrain = xgb.DMatrix(X_train, label=y_train)\n",
    "# dval = xgb.DMatrix(X_val, label=y_val)\n",
    "\n",
    "# num_round = 1000\n",
    "# model = xgb.train(best_params, dtrain, num_round, evals=[(dval, 'eval')], early_stopping_rounds=100, verbose_eval=False)\n",
    "\n",
    "# #Evaluate the final model on the test set\n",
    "# y_pred = model.predict(dval)\n",
    "# rmse = mean_squared_error(y_val, y_pred, squared=False)\n",
    "# print(\"Final root mean squared error:\", rmse)"
   ]
  },
  {
   "cell_type": "markdown",
   "id": "e93cf93d",
   "metadata": {
    "papermill": {
     "duration": 0.026065,
     "end_time": "2023-04-30T14:32:59.289835",
     "exception": false,
     "start_time": "2023-04-30T14:32:59.263770",
     "status": "completed"
    },
    "tags": []
   },
   "source": [
    "### **Consensus Models:**\n",
    "* Neural Nets\n",
    "* XGBoost\n",
    "* Random Forest"
   ]
  },
  {
   "cell_type": "code",
   "execution_count": 64,
   "id": "05d6dc00",
   "metadata": {
    "execution": {
     "iopub.execute_input": "2023-04-30T14:32:59.343835Z",
     "iopub.status.busy": "2023-04-30T14:32:59.343528Z",
     "iopub.status.idle": "2023-04-30T14:32:59.348498Z",
     "shell.execute_reply": "2023-04-30T14:32:59.347448Z"
    },
    "papermill": {
     "duration": 0.034336,
     "end_time": "2023-04-30T14:32:59.350436",
     "exception": false,
     "start_time": "2023-04-30T14:32:59.316100",
     "status": "completed"
    },
    "tags": []
   },
   "outputs": [],
   "source": [
    "# from sklearn.model_selection import cross_val_predict, KFold\n",
    "# from sklearn.neural_network import MLPRegressor\n",
    "# from xgboost import XGBRegressor\n",
    "# from sklearn.ensemble import RandomForestRegressor\n",
    "# from sklearn.metrics import mean_squared_error\n",
    "\n",
    "# # Define the models\n",
    "# model_nn = MLPRegressor(activation='tanh', hidden_layer_sizes=(500,), max_iter=1000, alpha=0.001, random_state=42, solver='adam')\n",
    "# model_xgb = XGBRegressor(objective='reg:squarederror', n_estimators=100, random_state=42)\n",
    "# model_rf = RandomForestRegressor(n_estimators=100, random_state=42)\n",
    "\n",
    "# # Fit the models using cross-fold validation\n",
    "# cv = KFold(n_splits=5, shuffle=True, random_state=42)\n",
    "\n",
    "# y_pred_nn = cross_val_predict(model_nn, X_train, y_train, cv=cv)\n",
    "# y_pred_xgb = cross_val_predict(model_xgb, X_train, y_train, cv=cv)\n",
    "# y_pred_rf = cross_val_predict(model_rf, X_train, y_train, cv=cv)\n",
    "\n",
    "# # Calculate the consensus results\n",
    "# y_pred_consensus = (y_pred_nn + y_pred_xgb + y_pred_rf) / 3\n",
    "\n",
    "# # Evaluate the performance of each individual model and the consensus model\n",
    "# print(\"Neural Net RMSE:\", mean_squared_error(y_train, y_pred_nn, squared=False))\n",
    "# print(\"XGBoost RMSE:\", mean_squared_error(y_train, y_pred_xgb, squared=False))\n",
    "# print(\"Random Forest RMSE:\", mean_squared_error(y_train, y_pred_rf, squared=False))\n",
    "# print(\"Consensus RMSE:\", mean_squared_error(y_train, y_pred_consensus, squared=False))"
   ]
  },
  {
   "cell_type": "code",
   "execution_count": 65,
   "id": "57fcc35e",
   "metadata": {
    "execution": {
     "iopub.execute_input": "2023-04-30T14:32:59.404910Z",
     "iopub.status.busy": "2023-04-30T14:32:59.404342Z",
     "iopub.status.idle": "2023-04-30T14:32:59.410344Z",
     "shell.execute_reply": "2023-04-30T14:32:59.409387Z"
    },
    "papermill": {
     "duration": 0.035803,
     "end_time": "2023-04-30T14:32:59.412399",
     "exception": false,
     "start_time": "2023-04-30T14:32:59.376596",
     "status": "completed"
    },
    "tags": []
   },
   "outputs": [],
   "source": [
    "# def grid_search_mpnn(train_set, hyper_params, folds=5):\n",
    "\n",
    "#     params = list(map(lambda key: hyper_params[key], hyper_params.keys()))\n",
    "#     n_of_tries = len(list(itertools.product(*params)))\n",
    "#     search_results = []\n",
    "\n",
    "#     # split dataset into folds\n",
    "#     splitter = dc.splits.RandomSplitter()\n",
    "#     fold_sets = splitter.k_fold_split(train_set, folds)\n",
    "\n",
    "#     # save best hyperparams\n",
    "#     best_score = 1e10\n",
    "#     best_params = None\n",
    "    \n",
    "#     # try all possible combinations of hyperparams\n",
    "#     for i, (batch_size, n_atom_feat, n_pair_feat, n_hidden) in enumerate(itertools.product(*params)):\n",
    "\n",
    "#         rmse_scores = []\n",
    "\n",
    "#         for train, valid in fold_sets:\n",
    "#             transformers = [dc.trans.NormalizationTransformer(transform_y=True, dataset=train, move_mean=True)]\n",
    "\n",
    "#             # preprocess data\n",
    "#             for transformer in transformers:\n",
    "#                 train = transformer.transform(train)\n",
    "#                 valid = transformer.transform(valid)\n",
    "                \n",
    "#             print(f\"train.shape: {train.X.shape}\")\n",
    "#             print(f\"valid.shape: {valid.X.shape}\")\n",
    "\n",
    "#             # intantiate and fit model\n",
    "#             model = dc.models.MPNNModel(1, mode='regression', batch_size=batch_size, use_queue=False, n_atom_feat=n_atom_feat, n_pair_feat=n_pair_feat, n_hidden=n_hidden, learning_rate=0.0001, T=3, M=5)\n",
    "#             model.fit(train, nb_epoch=50, checkpoint_interval=100)\n",
    "            \n",
    "#             # evaluate model\n",
    "#             metric = dc.metrics.Metric(dc.metrics.rms_score, np.mean)\n",
    "#             rmse = model.evaluate(valid, [metric], transformers)['mean-rms_score']\n",
    "#             rmse_scores.append(rmse)\n",
    "        \n",
    "#         average_rmse = np.mean(rmse_scores)\n",
    "\n",
    "#         # save best hyperparams\n",
    "#         if average_rmse < best_score:\n",
    "#             best_score = average_rmse\n",
    "#             best_params = (batch_size, n_atom_feat, n_pair_feat, n_hidden)\n",
    "\n",
    "#         search_results.append([average_rmse, batch_size, n_atom_feat, n_pair_feat, n_hidden])\n",
    "#         print_progress(i, n_of_tries)\n",
    "\n",
    "#     search_results = pd.DataFrame(search_results, columns=['rmse', 'batch_size', 'n_atom_feat', 'n_pair_feat', 'n_hidden']).sort_values(by='rmse')\n",
    "#     return search_results, best_params\n"
   ]
  },
  {
   "cell_type": "code",
   "execution_count": 66,
   "id": "f4aad3ce",
   "metadata": {
    "execution": {
     "iopub.execute_input": "2023-04-30T14:32:59.464764Z",
     "iopub.status.busy": "2023-04-30T14:32:59.464455Z",
     "iopub.status.idle": "2023-04-30T14:32:59.469062Z",
     "shell.execute_reply": "2023-04-30T14:32:59.468002Z"
    },
    "papermill": {
     "duration": 0.033454,
     "end_time": "2023-04-30T14:32:59.471151",
     "exception": false,
     "start_time": "2023-04-30T14:32:59.437697",
     "status": "completed"
    },
    "tags": []
   },
   "outputs": [],
   "source": [
    "# # load esol dataset from csv\n",
    "# tasks = ['Solubility']\n",
    "# loader = dc.data.CSVLoader(tasks=tasks, feature_field='SMILES', featurizer=dc.feat.WeaveFeaturizer())\n",
    "# dataset = loader.create_dataset('/kaggle/input/aqueous-solubility-predictioin/train.csv')\n",
    "# loader = dc.data.CSVLoader(tasks=[], feature_field=\"SMILES\", featurizer=dc.feat.WeaveFeaturizer())\n",
    "# test_set=loader.create_dataset('/kaggle/input/aqueous-solubility-predictioin/test.csv')\n",
    "# # split esol dataset\n",
    "# splitter = dc.splits.RandomSplitter()\n",
    "# train_set, val_set = splitter.train_test_split(dataset, frac_train=0.8, seed=0)"
   ]
  },
  {
   "cell_type": "code",
   "execution_count": 67,
   "id": "50154d33",
   "metadata": {
    "execution": {
     "iopub.execute_input": "2023-04-30T14:32:59.524618Z",
     "iopub.status.busy": "2023-04-30T14:32:59.523772Z",
     "iopub.status.idle": "2023-04-30T14:32:59.528290Z",
     "shell.execute_reply": "2023-04-30T14:32:59.527401Z"
    },
    "papermill": {
     "duration": 0.033356,
     "end_time": "2023-04-30T14:32:59.530188",
     "exception": false,
     "start_time": "2023-04-30T14:32:59.496832",
     "status": "completed"
    },
    "tags": []
   },
   "outputs": [],
   "source": [
    "# hyper_params = {\n",
    "#     'batch_size': [32, 16],\n",
    "#     'n_atom_feat': [75],\n",
    "#     'n_pair_feat': [14],\n",
    "#     'n_hidden': [100]\n",
    "# }\n",
    "\n",
    "# search_results, (batch_size, n_atom_feat, n_pair_feat, n_hidden) = grid_search_mpnn(train_set, hyper_params)"
   ]
  },
  {
   "cell_type": "code",
   "execution_count": 68,
   "id": "c60cbe64",
   "metadata": {
    "execution": {
     "iopub.execute_input": "2023-04-30T14:32:59.583622Z",
     "iopub.status.busy": "2023-04-30T14:32:59.583316Z",
     "iopub.status.idle": "2023-04-30T14:32:59.589918Z",
     "shell.execute_reply": "2023-04-30T14:32:59.588052Z"
    },
    "papermill": {
     "duration": 0.036786,
     "end_time": "2023-04-30T14:32:59.593267",
     "exception": false,
     "start_time": "2023-04-30T14:32:59.556481",
     "status": "completed"
    },
    "tags": []
   },
   "outputs": [],
   "source": [
    "# print(search_results)"
   ]
  },
  {
   "cell_type": "code",
   "execution_count": 69,
   "id": "4f339138",
   "metadata": {
    "execution": {
     "iopub.execute_input": "2023-04-30T14:32:59.709576Z",
     "iopub.status.busy": "2023-04-30T14:32:59.709120Z",
     "iopub.status.idle": "2023-04-30T14:32:59.714770Z",
     "shell.execute_reply": "2023-04-30T14:32:59.713531Z"
    },
    "papermill": {
     "duration": 0.066823,
     "end_time": "2023-04-30T14:32:59.719306",
     "exception": false,
     "start_time": "2023-04-30T14:32:59.652483",
     "status": "completed"
    },
    "tags": []
   },
   "outputs": [],
   "source": [
    "# batch_size, n_atom_feat, n_pair_feat, n_hidden=16,75,14,100"
   ]
  },
  {
   "cell_type": "code",
   "execution_count": 70,
   "id": "15cfbdb2",
   "metadata": {
    "execution": {
     "iopub.execute_input": "2023-04-30T14:32:59.799792Z",
     "iopub.status.busy": "2023-04-30T14:32:59.799485Z",
     "iopub.status.idle": "2023-04-30T14:32:59.804429Z",
     "shell.execute_reply": "2023-04-30T14:32:59.803329Z"
    },
    "papermill": {
     "duration": 0.038853,
     "end_time": "2023-04-30T14:32:59.806609",
     "exception": false,
     "start_time": "2023-04-30T14:32:59.767756",
     "status": "completed"
    },
    "tags": []
   },
   "outputs": [],
   "source": [
    "# transformers = [dc.trans.NormalizationTransformer(transform_y=True, dataset=train_set, move_mean=True)]\n",
    "\n",
    "# # preprocess data\n",
    "# for transformer in transformers:\n",
    "#     train_set = transformer.transform(train_set)\n",
    "#     val_set = transformer.transform(val_set)\n",
    "#    # test_set = transformer.transform(test_set)\n",
    "\n",
    "# # intantiate and fit model\n",
    "# model = dc.models.MPNNModel(1, mode='regression', batch_size=batch_size, use_queue=False, n_atom_feat=n_atom_feat, n_pair_feat=n_pair_feat, n_hidden=n_hidden, learning_rate=0.0001, T=3, M=5)\n",
    "# model.fit(train_set, nb_epoch=50, checkpoint_interval=100)\n",
    "\n",
    "# # evaluate model\n",
    "# metric = [\n",
    "#     dc.metrics.Metric(dc.metrics.rms_score, np.mean),\n",
    "#     dc.metrics.Metric(dc.metrics.mae_score, np.mean),\n",
    "#     dc.metrics.Metric(dc.metrics.pearson_r2_score, np.mean)\n",
    "# ]\n",
    "# train_scores = model.evaluate(train_set, metric, transformers)\n",
    "# val_scores = model.evaluate(val_set, metric, transformers)\n",
    "\n",
    "# print(\"Train scores\")\n",
    "# print(train_scores)\n",
    "\n",
    "# print(\"Val scores\")\n",
    "# print(val_scores)\n",
    "\n",
    "# results['mpnn'] = test_scores"
   ]
  },
  {
   "cell_type": "markdown",
   "id": "3486f0f5",
   "metadata": {
    "papermill": {
     "duration": 0.025701,
     "end_time": "2023-04-30T14:32:59.857954",
     "exception": false,
     "start_time": "2023-04-30T14:32:59.832253",
     "status": "completed"
    },
    "tags": []
   },
   "source": [
    "### **Making Prediction for Submission**"
   ]
  },
  {
   "cell_type": "code",
   "execution_count": 71,
   "id": "88fd0ab5",
   "metadata": {
    "execution": {
     "iopub.execute_input": "2023-04-30T14:32:59.910047Z",
     "iopub.status.busy": "2023-04-30T14:32:59.909726Z",
     "iopub.status.idle": "2023-04-30T14:32:59.914121Z",
     "shell.execute_reply": "2023-04-30T14:32:59.912998Z"
    },
    "papermill": {
     "duration": 0.032661,
     "end_time": "2023-04-30T14:32:59.916224",
     "exception": false,
     "start_time": "2023-04-30T14:32:59.883563",
     "status": "completed"
    },
    "tags": []
   },
   "outputs": [],
   "source": [
    "# Stop Here to choose the best model and ReTrain on the whole Data..........."
   ]
  },
  {
   "cell_type": "code",
   "execution_count": 72,
   "id": "5fcf3434",
   "metadata": {
    "execution": {
     "iopub.execute_input": "2023-04-30T14:32:59.968346Z",
     "iopub.status.busy": "2023-04-30T14:32:59.967492Z",
     "iopub.status.idle": "2023-04-30T14:33:00.803283Z",
     "shell.execute_reply": "2023-04-30T14:33:00.801645Z"
    },
    "papermill": {
     "duration": 0.864248,
     "end_time": "2023-04-30T14:33:00.805699",
     "exception": false,
     "start_time": "2023-04-30T14:32:59.941451",
     "status": "completed"
    },
    "tags": []
   },
   "outputs": [
    {
     "name": "stdout",
     "output_type": "stream",
     "text": [
      "\n",
      "The RMSE : 0.33444829512524454\n"
     ]
    }
   ],
   "source": [
    "#final_train_data = Dataset(X_scaled, label=y)\n",
    "params = {\n",
    "            \"objective\": \"regression\",\n",
    "            \"is_unbalance\": \"true\",\n",
    "            \"boosting_type\": \"dart\",\n",
    "            \"bagging_ratio\": 0.6,\n",
    "            \"feature_fraction\": 0.6,\n",
    "            \"metric\": [\"rmse\"],\n",
    "}\n",
    "\n",
    "# training a LightGBM model\n",
    "\n",
    "# model = lgb.train(params=best_params,\n",
    "#                  train_set=Dataset(X, label=y),\n",
    "#                  num_boost_round=1500,\n",
    "#                  verbose_eval=100\n",
    "#                  )\n",
    "\n",
    "# Evaluation\n",
    "y_pred_lgb=model.predict(X)\n",
    "\n",
    "print(\"\\nThe RMSE :\",mean_squared_error(y, y_pred_lgb,squared=False))"
   ]
  },
  {
   "cell_type": "code",
   "execution_count": 73,
   "id": "86ed8017",
   "metadata": {
    "execution": {
     "iopub.execute_input": "2023-04-30T14:33:00.858558Z",
     "iopub.status.busy": "2023-04-30T14:33:00.857920Z",
     "iopub.status.idle": "2023-04-30T14:33:01.245878Z",
     "shell.execute_reply": "2023-04-30T14:33:01.244851Z"
    },
    "papermill": {
     "duration": 0.416842,
     "end_time": "2023-04-30T14:33:01.248478",
     "exception": false,
     "start_time": "2023-04-30T14:33:00.831636",
     "status": "completed"
    },
    "tags": []
   },
   "outputs": [],
   "source": [
    "y_test_predicted = model.predict(X_test)\n",
    "\n",
    "df_test['Solubility'] = y_test_predicted\n",
    "df_test['comp_id']=comp_id"
   ]
  },
  {
   "cell_type": "code",
   "execution_count": 74,
   "id": "2f74147d",
   "metadata": {
    "execution": {
     "iopub.execute_input": "2023-04-30T14:33:01.302143Z",
     "iopub.status.busy": "2023-04-30T14:33:01.301789Z",
     "iopub.status.idle": "2023-04-30T14:33:01.315673Z",
     "shell.execute_reply": "2023-04-30T14:33:01.314752Z"
    },
    "papermill": {
     "duration": 0.043196,
     "end_time": "2023-04-30T14:33:01.317715",
     "exception": false,
     "start_time": "2023-04-30T14:33:01.274519",
     "status": "completed"
    },
    "tags": []
   },
   "outputs": [],
   "source": [
    "df_test[['comp_id', 'Solubility']].to_csv('/kaggle/working/submission.csv', index=False)"
   ]
  },
  {
   "cell_type": "code",
   "execution_count": 75,
   "id": "90e349f8",
   "metadata": {
    "execution": {
     "iopub.execute_input": "2023-04-30T14:33:01.370080Z",
     "iopub.status.busy": "2023-04-30T14:33:01.369789Z",
     "iopub.status.idle": "2023-04-30T14:33:01.382332Z",
     "shell.execute_reply": "2023-04-30T14:33:01.381332Z"
    },
    "papermill": {
     "duration": 0.040739,
     "end_time": "2023-04-30T14:33:01.384468",
     "exception": false,
     "start_time": "2023-04-30T14:33:01.343729",
     "status": "completed"
    },
    "tags": []
   },
   "outputs": [
    {
     "data": {
      "text/html": [
       "<div>\n",
       "<style scoped>\n",
       "    .dataframe tbody tr th:only-of-type {\n",
       "        vertical-align: middle;\n",
       "    }\n",
       "\n",
       "    .dataframe tbody tr th {\n",
       "        vertical-align: top;\n",
       "    }\n",
       "\n",
       "    .dataframe thead th {\n",
       "        text-align: right;\n",
       "    }\n",
       "</style>\n",
       "<table border=\"1\" class=\"dataframe\">\n",
       "  <thead>\n",
       "    <tr style=\"text-align: right;\">\n",
       "      <th></th>\n",
       "      <th>comp_id</th>\n",
       "      <th>Solubility</th>\n",
       "    </tr>\n",
       "  </thead>\n",
       "  <tbody>\n",
       "    <tr>\n",
       "      <th>0</th>\n",
       "      <td>841</td>\n",
       "      <td>-4.484597</td>\n",
       "    </tr>\n",
       "    <tr>\n",
       "      <th>1</th>\n",
       "      <td>6775</td>\n",
       "      <td>-4.547861</td>\n",
       "    </tr>\n",
       "    <tr>\n",
       "      <th>2</th>\n",
       "      <td>5670</td>\n",
       "      <td>-0.271033</td>\n",
       "    </tr>\n",
       "    <tr>\n",
       "      <th>3</th>\n",
       "      <td>3274</td>\n",
       "      <td>0.442704</td>\n",
       "    </tr>\n",
       "    <tr>\n",
       "      <th>4</th>\n",
       "      <td>7406</td>\n",
       "      <td>-3.640952</td>\n",
       "    </tr>\n",
       "    <tr>\n",
       "      <th>...</th>\n",
       "      <td>...</td>\n",
       "      <td>...</td>\n",
       "    </tr>\n",
       "    <tr>\n",
       "      <th>2990</th>\n",
       "      <td>1693</td>\n",
       "      <td>-8.420485</td>\n",
       "    </tr>\n",
       "    <tr>\n",
       "      <th>2991</th>\n",
       "      <td>8867</td>\n",
       "      <td>-5.040647</td>\n",
       "    </tr>\n",
       "    <tr>\n",
       "      <th>2992</th>\n",
       "      <td>9035</td>\n",
       "      <td>-2.170398</td>\n",
       "    </tr>\n",
       "    <tr>\n",
       "      <th>2993</th>\n",
       "      <td>7608</td>\n",
       "      <td>-2.322797</td>\n",
       "    </tr>\n",
       "    <tr>\n",
       "      <th>2994</th>\n",
       "      <td>1671</td>\n",
       "      <td>-6.726743</td>\n",
       "    </tr>\n",
       "  </tbody>\n",
       "</table>\n",
       "<p>2995 rows × 2 columns</p>\n",
       "</div>"
      ],
      "text/plain": [
       "      comp_id  Solubility\n",
       "0         841   -4.484597\n",
       "1        6775   -4.547861\n",
       "2        5670   -0.271033\n",
       "3        3274    0.442704\n",
       "4        7406   -3.640952\n",
       "...       ...         ...\n",
       "2990     1693   -8.420485\n",
       "2991     8867   -5.040647\n",
       "2992     9035   -2.170398\n",
       "2993     7608   -2.322797\n",
       "2994     1671   -6.726743\n",
       "\n",
       "[2995 rows x 2 columns]"
      ]
     },
     "execution_count": 75,
     "metadata": {},
     "output_type": "execute_result"
    }
   ],
   "source": [
    "df_test[['comp_id', 'Solubility']]"
   ]
  },
  {
   "cell_type": "code",
   "execution_count": null,
   "id": "c3b64010",
   "metadata": {
    "papermill": {
     "duration": 0.025199,
     "end_time": "2023-04-30T14:33:01.435836",
     "exception": false,
     "start_time": "2023-04-30T14:33:01.410637",
     "status": "completed"
    },
    "tags": []
   },
   "outputs": [],
   "source": []
  }
 ],
 "metadata": {
  "kernelspec": {
   "display_name": "Python 3",
   "language": "python",
   "name": "python3"
  },
  "language_info": {
   "codemirror_mode": {
    "name": "ipython",
    "version": 3
   },
   "file_extension": ".py",
   "mimetype": "text/x-python",
   "name": "python",
   "nbconvert_exporter": "python",
   "pygments_lexer": "ipython3",
   "version": "3.7.12"
  },
  "papermill": {
   "default_parameters": {},
   "duration": 136.85314,
   "end_time": "2023-04-30T14:33:04.344454",
   "environment_variables": {},
   "exception": null,
   "input_path": "__notebook__.ipynb",
   "output_path": "__notebook__.ipynb",
   "parameters": {},
   "start_time": "2023-04-30T14:30:47.491314",
   "version": "2.4.0"
  }
 },
 "nbformat": 4,
 "nbformat_minor": 5
}
